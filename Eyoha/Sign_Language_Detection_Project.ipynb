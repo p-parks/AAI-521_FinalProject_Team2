{
  "nbformat": 4,
  "nbformat_minor": 0,
  "metadata": {
    "colab": {
      "provenance": [],
      "machine_shape": "hm"
    },
    "kernelspec": {
      "name": "python3",
      "display_name": "Python 3"
    },
    "language_info": {
      "name": "python"
    }
  },
  "cells": [
    {
      "cell_type": "markdown",
      "source": [
        "#Sign Language Detection\n"
      ],
      "metadata": {
        "id": "xHpUV7DZMmIL"
      }
    },
    {
      "cell_type": "markdown",
      "source": [
        "##Abstract\n",
        "This project focuses on developing a deep learning model to accurately predict and classify hand gestures, representing words, and numbers in American Sign Language. With a primary aim to facilitate communication with deaf children, especially those born to hearing parents unfamiliar with ASL, the project leverages a comprehensive dataset comprising hand landmarks extracted from video frames. Utilizing advanced image processing techniques and machine learning algorithms, the model interprets hand positions, movements, and finger configurations to translate sign language into text. The goal of this project is to learn more aboout CV and deep learning techneques in the context of ASL while creating a an effective solution for people who use ASL.\n",
        "\n",
        "##Introduction\n",
        "Background\n",
        "Communication barriers between deaf individuals and those unfamiliar with sign language pose significant challenges. Particularly, deaf children born to hearing parents often face communication gaps, as many parents do not initially know sign language. This project aims to bridge this gap by leveraging technology to translate American Sign Language into text, thus aiding parents, educators, and caregivers in learning and interacting more effectively with deaf children.\n",
        "\n",
        "Objectives\n",
        "The primary objective of this project is to develop a deep learning-based model capable of accurately detecting and classifying ASL signs. The model will interpret hand gestures, including the position, movement, and orientation of hands and fingers, to translate these into corresponding textual representations.\n",
        "\n",
        "Dataset and Methods\n",
        "The dataset for this project is sourced from a Kaggle competition, comprising landmark data extracted from videos using the MediaPipe holistic model. This data includes normalized spatial coordinates for hand landmarks, which are the critical features for model training. The project will employ various image processing techniques, such as edge detection and finger positioning analysis, alongside deep learning models like Convolutional Neural Networks (CNNs) and Recurrent Neural Networks (RNNs), to interpret these signs. The model’s performance will be evaluated using accuracy, precision, recall, and F1-score metrics, and the final model will be converted into TensorFlow Lite format for practical deployment."
      ],
      "metadata": {
        "id": "1E4uD9g5FqIP"
      }
    },
    {
      "cell_type": "markdown",
      "source": [
        "**Step 1:** Setup Environment and Dependencies"
      ],
      "metadata": {
        "id": "ayktBQ4UNSuk"
      }
    },
    {
      "cell_type": "code",
      "execution_count": null,
      "metadata": {
        "id": "eWByIYV0Fncm"
      },
      "outputs": [],
      "source": [
        "!pip install tensorflow numpy pandas matplotlib scikit-learn opencv-python"
      ]
    },
    {
      "cell_type": "code",
      "source": [
        "import tensorflow as tf\n",
        "import numpy as np\n",
        "import pandas as pd\n",
        "import matplotlib.pyplot as plt\n",
        "import pyarrow.parquet as pq\n",
        "import cv2\n",
        "import os\n",
        "from sklearn.model_selection import train_test_split\n"
      ],
      "metadata": {
        "id": "2DU0RFXPNP1z"
      },
      "execution_count": 11,
      "outputs": []
    },
    {
      "cell_type": "markdown",
      "source": [
        "**Step 2:** Data Acquisition and Loading"
      ],
      "metadata": {
        "id": "tZlid79HOd83"
      }
    },
    {
      "cell_type": "code",
      "source": [
        "from google.colab import files\n",
        "files.upload()  # This will allow us to upload the kaggle.json file\n"
      ],
      "metadata": {
        "colab": {
          "base_uri": "https://localhost:8080/",
          "height": 90
        },
        "id": "nc5IUOoOOmUi",
        "outputId": "ccfeb156-bc59-43c5-ffa6-3f98c3d4ab83"
      },
      "execution_count": 3,
      "outputs": [
        {
          "output_type": "display_data",
          "data": {
            "text/plain": [
              "<IPython.core.display.HTML object>"
            ],
            "text/html": [
              "\n",
              "     <input type=\"file\" id=\"files-e0ed7602-8b38-4624-8a6e-a0d129ae8b6d\" name=\"files[]\" multiple disabled\n",
              "        style=\"border:none\" />\n",
              "     <output id=\"result-e0ed7602-8b38-4624-8a6e-a0d129ae8b6d\">\n",
              "      Upload widget is only available when the cell has been executed in the\n",
              "      current browser session. Please rerun this cell to enable.\n",
              "      </output>\n",
              "      <script>// Copyright 2017 Google LLC\n",
              "//\n",
              "// Licensed under the Apache License, Version 2.0 (the \"License\");\n",
              "// you may not use this file except in compliance with the License.\n",
              "// You may obtain a copy of the License at\n",
              "//\n",
              "//      http://www.apache.org/licenses/LICENSE-2.0\n",
              "//\n",
              "// Unless required by applicable law or agreed to in writing, software\n",
              "// distributed under the License is distributed on an \"AS IS\" BASIS,\n",
              "// WITHOUT WARRANTIES OR CONDITIONS OF ANY KIND, either express or implied.\n",
              "// See the License for the specific language governing permissions and\n",
              "// limitations under the License.\n",
              "\n",
              "/**\n",
              " * @fileoverview Helpers for google.colab Python module.\n",
              " */\n",
              "(function(scope) {\n",
              "function span(text, styleAttributes = {}) {\n",
              "  const element = document.createElement('span');\n",
              "  element.textContent = text;\n",
              "  for (const key of Object.keys(styleAttributes)) {\n",
              "    element.style[key] = styleAttributes[key];\n",
              "  }\n",
              "  return element;\n",
              "}\n",
              "\n",
              "// Max number of bytes which will be uploaded at a time.\n",
              "const MAX_PAYLOAD_SIZE = 100 * 1024;\n",
              "\n",
              "function _uploadFiles(inputId, outputId) {\n",
              "  const steps = uploadFilesStep(inputId, outputId);\n",
              "  const outputElement = document.getElementById(outputId);\n",
              "  // Cache steps on the outputElement to make it available for the next call\n",
              "  // to uploadFilesContinue from Python.\n",
              "  outputElement.steps = steps;\n",
              "\n",
              "  return _uploadFilesContinue(outputId);\n",
              "}\n",
              "\n",
              "// This is roughly an async generator (not supported in the browser yet),\n",
              "// where there are multiple asynchronous steps and the Python side is going\n",
              "// to poll for completion of each step.\n",
              "// This uses a Promise to block the python side on completion of each step,\n",
              "// then passes the result of the previous step as the input to the next step.\n",
              "function _uploadFilesContinue(outputId) {\n",
              "  const outputElement = document.getElementById(outputId);\n",
              "  const steps = outputElement.steps;\n",
              "\n",
              "  const next = steps.next(outputElement.lastPromiseValue);\n",
              "  return Promise.resolve(next.value.promise).then((value) => {\n",
              "    // Cache the last promise value to make it available to the next\n",
              "    // step of the generator.\n",
              "    outputElement.lastPromiseValue = value;\n",
              "    return next.value.response;\n",
              "  });\n",
              "}\n",
              "\n",
              "/**\n",
              " * Generator function which is called between each async step of the upload\n",
              " * process.\n",
              " * @param {string} inputId Element ID of the input file picker element.\n",
              " * @param {string} outputId Element ID of the output display.\n",
              " * @return {!Iterable<!Object>} Iterable of next steps.\n",
              " */\n",
              "function* uploadFilesStep(inputId, outputId) {\n",
              "  const inputElement = document.getElementById(inputId);\n",
              "  inputElement.disabled = false;\n",
              "\n",
              "  const outputElement = document.getElementById(outputId);\n",
              "  outputElement.innerHTML = '';\n",
              "\n",
              "  const pickedPromise = new Promise((resolve) => {\n",
              "    inputElement.addEventListener('change', (e) => {\n",
              "      resolve(e.target.files);\n",
              "    });\n",
              "  });\n",
              "\n",
              "  const cancel = document.createElement('button');\n",
              "  inputElement.parentElement.appendChild(cancel);\n",
              "  cancel.textContent = 'Cancel upload';\n",
              "  const cancelPromise = new Promise((resolve) => {\n",
              "    cancel.onclick = () => {\n",
              "      resolve(null);\n",
              "    };\n",
              "  });\n",
              "\n",
              "  // Wait for the user to pick the files.\n",
              "  const files = yield {\n",
              "    promise: Promise.race([pickedPromise, cancelPromise]),\n",
              "    response: {\n",
              "      action: 'starting',\n",
              "    }\n",
              "  };\n",
              "\n",
              "  cancel.remove();\n",
              "\n",
              "  // Disable the input element since further picks are not allowed.\n",
              "  inputElement.disabled = true;\n",
              "\n",
              "  if (!files) {\n",
              "    return {\n",
              "      response: {\n",
              "        action: 'complete',\n",
              "      }\n",
              "    };\n",
              "  }\n",
              "\n",
              "  for (const file of files) {\n",
              "    const li = document.createElement('li');\n",
              "    li.append(span(file.name, {fontWeight: 'bold'}));\n",
              "    li.append(span(\n",
              "        `(${file.type || 'n/a'}) - ${file.size} bytes, ` +\n",
              "        `last modified: ${\n",
              "            file.lastModifiedDate ? file.lastModifiedDate.toLocaleDateString() :\n",
              "                                    'n/a'} - `));\n",
              "    const percent = span('0% done');\n",
              "    li.appendChild(percent);\n",
              "\n",
              "    outputElement.appendChild(li);\n",
              "\n",
              "    const fileDataPromise = new Promise((resolve) => {\n",
              "      const reader = new FileReader();\n",
              "      reader.onload = (e) => {\n",
              "        resolve(e.target.result);\n",
              "      };\n",
              "      reader.readAsArrayBuffer(file);\n",
              "    });\n",
              "    // Wait for the data to be ready.\n",
              "    let fileData = yield {\n",
              "      promise: fileDataPromise,\n",
              "      response: {\n",
              "        action: 'continue',\n",
              "      }\n",
              "    };\n",
              "\n",
              "    // Use a chunked sending to avoid message size limits. See b/62115660.\n",
              "    let position = 0;\n",
              "    do {\n",
              "      const length = Math.min(fileData.byteLength - position, MAX_PAYLOAD_SIZE);\n",
              "      const chunk = new Uint8Array(fileData, position, length);\n",
              "      position += length;\n",
              "\n",
              "      const base64 = btoa(String.fromCharCode.apply(null, chunk));\n",
              "      yield {\n",
              "        response: {\n",
              "          action: 'append',\n",
              "          file: file.name,\n",
              "          data: base64,\n",
              "        },\n",
              "      };\n",
              "\n",
              "      let percentDone = fileData.byteLength === 0 ?\n",
              "          100 :\n",
              "          Math.round((position / fileData.byteLength) * 100);\n",
              "      percent.textContent = `${percentDone}% done`;\n",
              "\n",
              "    } while (position < fileData.byteLength);\n",
              "  }\n",
              "\n",
              "  // All done.\n",
              "  yield {\n",
              "    response: {\n",
              "      action: 'complete',\n",
              "    }\n",
              "  };\n",
              "}\n",
              "\n",
              "scope.google = scope.google || {};\n",
              "scope.google.colab = scope.google.colab || {};\n",
              "scope.google.colab._files = {\n",
              "  _uploadFiles,\n",
              "  _uploadFilesContinue,\n",
              "};\n",
              "})(self);\n",
              "</script> "
            ]
          },
          "metadata": {}
        },
        {
          "output_type": "stream",
          "name": "stdout",
          "text": [
            "Saving kaggle.json to kaggle.json\n"
          ]
        },
        {
          "output_type": "execute_result",
          "data": {
            "text/plain": [
              "{'kaggle.json': b'{\"username\":\"yoha00\",\"key\":\"009129d68ea830c0102186e43b0dd39f\"}'}"
            ]
          },
          "metadata": {},
          "execution_count": 3
        }
      ]
    },
    {
      "cell_type": "code",
      "source": [
        "# setting up kaggle environment\n",
        "!mkdir ~/.kaggle\n",
        "!cp kaggle.json ~/.kaggle/\n",
        "!chmod 600 ~/.kaggle/kaggle.json\n"
      ],
      "metadata": {
        "id": "OINZ2ieMPGnB"
      },
      "execution_count": 4,
      "outputs": []
    },
    {
      "cell_type": "code",
      "source": [
        "# now we use the kaggle API to download the asl dataset\n",
        "!kaggle competitions download -c asl-signs"
      ],
      "metadata": {
        "colab": {
          "base_uri": "https://localhost:8080/",
          "height": 0
        },
        "id": "hikePCN7PHm1",
        "outputId": "59481506-950e-4668-f4f6-3ad4b18bd3dc"
      },
      "execution_count": 5,
      "outputs": [
        {
          "output_type": "stream",
          "name": "stdout",
          "text": [
            "Downloading asl-signs.zip to /content\n",
            "100% 37.4G/37.4G [21:21<00:00, 39.4MB/s]\n",
            "100% 37.4G/37.4G [21:21<00:00, 31.3MB/s]\n"
          ]
        }
      ]
    },
    {
      "cell_type": "code",
      "source": [
        "# Unzip the downloaded file\n",
        "!unzip asl-signs.zip"
      ],
      "metadata": {
        "id": "CPx3NrIAP5CX"
      },
      "execution_count": null,
      "outputs": []
    },
    {
      "cell_type": "code",
      "source": [
        "#looking at the file structure\n",
        "!ls\n",
        ""
      ],
      "metadata": {
        "colab": {
          "base_uri": "https://localhost:8080/",
          "height": 0
        },
        "id": "QHupkOEIQxlL",
        "outputId": "decb83e5-a3cd-428e-ed27-5fc9a643118f"
      },
      "execution_count": 22,
      "outputs": [
        {
          "output_type": "stream",
          "name": "stdout",
          "text": [
            "asl-signs.zip  sample_data\t\t\t  train.csv\n",
            "kaggle.json    sign_to_prediction_index_map.json  train_landmark_files\n"
          ]
        }
      ]
    },
    {
      "cell_type": "code",
      "source": [
        "# Taking a look at the train.csv\n",
        "df = pd.read_csv('/content/train.csv')\n",
        "df.head()"
      ],
      "metadata": {
        "colab": {
          "base_uri": "https://localhost:8080/",
          "height": 206
        },
        "id": "TaKjO1Nep3ES",
        "outputId": "51f1e4a1-06dd-4520-e4da-2a91b304313d"
      },
      "execution_count": 16,
      "outputs": [
        {
          "output_type": "execute_result",
          "data": {
            "text/plain": [
              "                                            path  participant_id  sequence_id  \\\n",
              "0  train_landmark_files/26734/1000035562.parquet           26734   1000035562   \n",
              "1  train_landmark_files/28656/1000106739.parquet           28656   1000106739   \n",
              "2   train_landmark_files/16069/100015657.parquet           16069    100015657   \n",
              "3  train_landmark_files/25571/1000210073.parquet           25571   1000210073   \n",
              "4  train_landmark_files/62590/1000240708.parquet           62590   1000240708   \n",
              "\n",
              "    sign  \n",
              "0   blow  \n",
              "1   wait  \n",
              "2  cloud  \n",
              "3   bird  \n",
              "4   owie  "
            ],
            "text/html": [
              "\n",
              "  <div id=\"df-81b449af-1c0b-40e0-b903-c0ff9633200f\" class=\"colab-df-container\">\n",
              "    <div>\n",
              "<style scoped>\n",
              "    .dataframe tbody tr th:only-of-type {\n",
              "        vertical-align: middle;\n",
              "    }\n",
              "\n",
              "    .dataframe tbody tr th {\n",
              "        vertical-align: top;\n",
              "    }\n",
              "\n",
              "    .dataframe thead th {\n",
              "        text-align: right;\n",
              "    }\n",
              "</style>\n",
              "<table border=\"1\" class=\"dataframe\">\n",
              "  <thead>\n",
              "    <tr style=\"text-align: right;\">\n",
              "      <th></th>\n",
              "      <th>path</th>\n",
              "      <th>participant_id</th>\n",
              "      <th>sequence_id</th>\n",
              "      <th>sign</th>\n",
              "    </tr>\n",
              "  </thead>\n",
              "  <tbody>\n",
              "    <tr>\n",
              "      <th>0</th>\n",
              "      <td>train_landmark_files/26734/1000035562.parquet</td>\n",
              "      <td>26734</td>\n",
              "      <td>1000035562</td>\n",
              "      <td>blow</td>\n",
              "    </tr>\n",
              "    <tr>\n",
              "      <th>1</th>\n",
              "      <td>train_landmark_files/28656/1000106739.parquet</td>\n",
              "      <td>28656</td>\n",
              "      <td>1000106739</td>\n",
              "      <td>wait</td>\n",
              "    </tr>\n",
              "    <tr>\n",
              "      <th>2</th>\n",
              "      <td>train_landmark_files/16069/100015657.parquet</td>\n",
              "      <td>16069</td>\n",
              "      <td>100015657</td>\n",
              "      <td>cloud</td>\n",
              "    </tr>\n",
              "    <tr>\n",
              "      <th>3</th>\n",
              "      <td>train_landmark_files/25571/1000210073.parquet</td>\n",
              "      <td>25571</td>\n",
              "      <td>1000210073</td>\n",
              "      <td>bird</td>\n",
              "    </tr>\n",
              "    <tr>\n",
              "      <th>4</th>\n",
              "      <td>train_landmark_files/62590/1000240708.parquet</td>\n",
              "      <td>62590</td>\n",
              "      <td>1000240708</td>\n",
              "      <td>owie</td>\n",
              "    </tr>\n",
              "  </tbody>\n",
              "</table>\n",
              "</div>\n",
              "    <div class=\"colab-df-buttons\">\n",
              "\n",
              "  <div class=\"colab-df-container\">\n",
              "    <button class=\"colab-df-convert\" onclick=\"convertToInteractive('df-81b449af-1c0b-40e0-b903-c0ff9633200f')\"\n",
              "            title=\"Convert this dataframe to an interactive table.\"\n",
              "            style=\"display:none;\">\n",
              "\n",
              "  <svg xmlns=\"http://www.w3.org/2000/svg\" height=\"24px\" viewBox=\"0 -960 960 960\">\n",
              "    <path d=\"M120-120v-720h720v720H120Zm60-500h600v-160H180v160Zm220 220h160v-160H400v160Zm0 220h160v-160H400v160ZM180-400h160v-160H180v160Zm440 0h160v-160H620v160ZM180-180h160v-160H180v160Zm440 0h160v-160H620v160Z\"/>\n",
              "  </svg>\n",
              "    </button>\n",
              "\n",
              "  <style>\n",
              "    .colab-df-container {\n",
              "      display:flex;\n",
              "      gap: 12px;\n",
              "    }\n",
              "\n",
              "    .colab-df-convert {\n",
              "      background-color: #E8F0FE;\n",
              "      border: none;\n",
              "      border-radius: 50%;\n",
              "      cursor: pointer;\n",
              "      display: none;\n",
              "      fill: #1967D2;\n",
              "      height: 32px;\n",
              "      padding: 0 0 0 0;\n",
              "      width: 32px;\n",
              "    }\n",
              "\n",
              "    .colab-df-convert:hover {\n",
              "      background-color: #E2EBFA;\n",
              "      box-shadow: 0px 1px 2px rgba(60, 64, 67, 0.3), 0px 1px 3px 1px rgba(60, 64, 67, 0.15);\n",
              "      fill: #174EA6;\n",
              "    }\n",
              "\n",
              "    .colab-df-buttons div {\n",
              "      margin-bottom: 4px;\n",
              "    }\n",
              "\n",
              "    [theme=dark] .colab-df-convert {\n",
              "      background-color: #3B4455;\n",
              "      fill: #D2E3FC;\n",
              "    }\n",
              "\n",
              "    [theme=dark] .colab-df-convert:hover {\n",
              "      background-color: #434B5C;\n",
              "      box-shadow: 0px 1px 3px 1px rgba(0, 0, 0, 0.15);\n",
              "      filter: drop-shadow(0px 1px 2px rgba(0, 0, 0, 0.3));\n",
              "      fill: #FFFFFF;\n",
              "    }\n",
              "  </style>\n",
              "\n",
              "    <script>\n",
              "      const buttonEl =\n",
              "        document.querySelector('#df-81b449af-1c0b-40e0-b903-c0ff9633200f button.colab-df-convert');\n",
              "      buttonEl.style.display =\n",
              "        google.colab.kernel.accessAllowed ? 'block' : 'none';\n",
              "\n",
              "      async function convertToInteractive(key) {\n",
              "        const element = document.querySelector('#df-81b449af-1c0b-40e0-b903-c0ff9633200f');\n",
              "        const dataTable =\n",
              "          await google.colab.kernel.invokeFunction('convertToInteractive',\n",
              "                                                    [key], {});\n",
              "        if (!dataTable) return;\n",
              "\n",
              "        const docLinkHtml = 'Like what you see? Visit the ' +\n",
              "          '<a target=\"_blank\" href=https://colab.research.google.com/notebooks/data_table.ipynb>data table notebook</a>'\n",
              "          + ' to learn more about interactive tables.';\n",
              "        element.innerHTML = '';\n",
              "        dataTable['output_type'] = 'display_data';\n",
              "        await google.colab.output.renderOutput(dataTable, element);\n",
              "        const docLink = document.createElement('div');\n",
              "        docLink.innerHTML = docLinkHtml;\n",
              "        element.appendChild(docLink);\n",
              "      }\n",
              "    </script>\n",
              "  </div>\n",
              "\n",
              "\n",
              "<div id=\"df-eaac75d3-7ed2-455a-826d-3a64fbd2dcd1\">\n",
              "  <button class=\"colab-df-quickchart\" onclick=\"quickchart('df-eaac75d3-7ed2-455a-826d-3a64fbd2dcd1')\"\n",
              "            title=\"Suggest charts\"\n",
              "            style=\"display:none;\">\n",
              "\n",
              "<svg xmlns=\"http://www.w3.org/2000/svg\" height=\"24px\"viewBox=\"0 0 24 24\"\n",
              "     width=\"24px\">\n",
              "    <g>\n",
              "        <path d=\"M19 3H5c-1.1 0-2 .9-2 2v14c0 1.1.9 2 2 2h14c1.1 0 2-.9 2-2V5c0-1.1-.9-2-2-2zM9 17H7v-7h2v7zm4 0h-2V7h2v10zm4 0h-2v-4h2v4z\"/>\n",
              "    </g>\n",
              "</svg>\n",
              "  </button>\n",
              "\n",
              "<style>\n",
              "  .colab-df-quickchart {\n",
              "      --bg-color: #E8F0FE;\n",
              "      --fill-color: #1967D2;\n",
              "      --hover-bg-color: #E2EBFA;\n",
              "      --hover-fill-color: #174EA6;\n",
              "      --disabled-fill-color: #AAA;\n",
              "      --disabled-bg-color: #DDD;\n",
              "  }\n",
              "\n",
              "  [theme=dark] .colab-df-quickchart {\n",
              "      --bg-color: #3B4455;\n",
              "      --fill-color: #D2E3FC;\n",
              "      --hover-bg-color: #434B5C;\n",
              "      --hover-fill-color: #FFFFFF;\n",
              "      --disabled-bg-color: #3B4455;\n",
              "      --disabled-fill-color: #666;\n",
              "  }\n",
              "\n",
              "  .colab-df-quickchart {\n",
              "    background-color: var(--bg-color);\n",
              "    border: none;\n",
              "    border-radius: 50%;\n",
              "    cursor: pointer;\n",
              "    display: none;\n",
              "    fill: var(--fill-color);\n",
              "    height: 32px;\n",
              "    padding: 0;\n",
              "    width: 32px;\n",
              "  }\n",
              "\n",
              "  .colab-df-quickchart:hover {\n",
              "    background-color: var(--hover-bg-color);\n",
              "    box-shadow: 0 1px 2px rgba(60, 64, 67, 0.3), 0 1px 3px 1px rgba(60, 64, 67, 0.15);\n",
              "    fill: var(--button-hover-fill-color);\n",
              "  }\n",
              "\n",
              "  .colab-df-quickchart-complete:disabled,\n",
              "  .colab-df-quickchart-complete:disabled:hover {\n",
              "    background-color: var(--disabled-bg-color);\n",
              "    fill: var(--disabled-fill-color);\n",
              "    box-shadow: none;\n",
              "  }\n",
              "\n",
              "  .colab-df-spinner {\n",
              "    border: 2px solid var(--fill-color);\n",
              "    border-color: transparent;\n",
              "    border-bottom-color: var(--fill-color);\n",
              "    animation:\n",
              "      spin 1s steps(1) infinite;\n",
              "  }\n",
              "\n",
              "  @keyframes spin {\n",
              "    0% {\n",
              "      border-color: transparent;\n",
              "      border-bottom-color: var(--fill-color);\n",
              "      border-left-color: var(--fill-color);\n",
              "    }\n",
              "    20% {\n",
              "      border-color: transparent;\n",
              "      border-left-color: var(--fill-color);\n",
              "      border-top-color: var(--fill-color);\n",
              "    }\n",
              "    30% {\n",
              "      border-color: transparent;\n",
              "      border-left-color: var(--fill-color);\n",
              "      border-top-color: var(--fill-color);\n",
              "      border-right-color: var(--fill-color);\n",
              "    }\n",
              "    40% {\n",
              "      border-color: transparent;\n",
              "      border-right-color: var(--fill-color);\n",
              "      border-top-color: var(--fill-color);\n",
              "    }\n",
              "    60% {\n",
              "      border-color: transparent;\n",
              "      border-right-color: var(--fill-color);\n",
              "    }\n",
              "    80% {\n",
              "      border-color: transparent;\n",
              "      border-right-color: var(--fill-color);\n",
              "      border-bottom-color: var(--fill-color);\n",
              "    }\n",
              "    90% {\n",
              "      border-color: transparent;\n",
              "      border-bottom-color: var(--fill-color);\n",
              "    }\n",
              "  }\n",
              "</style>\n",
              "\n",
              "  <script>\n",
              "    async function quickchart(key) {\n",
              "      const quickchartButtonEl =\n",
              "        document.querySelector('#' + key + ' button');\n",
              "      quickchartButtonEl.disabled = true;  // To prevent multiple clicks.\n",
              "      quickchartButtonEl.classList.add('colab-df-spinner');\n",
              "      try {\n",
              "        const charts = await google.colab.kernel.invokeFunction(\n",
              "            'suggestCharts', [key], {});\n",
              "      } catch (error) {\n",
              "        console.error('Error during call to suggestCharts:', error);\n",
              "      }\n",
              "      quickchartButtonEl.classList.remove('colab-df-spinner');\n",
              "      quickchartButtonEl.classList.add('colab-df-quickchart-complete');\n",
              "    }\n",
              "    (() => {\n",
              "      let quickchartButtonEl =\n",
              "        document.querySelector('#df-eaac75d3-7ed2-455a-826d-3a64fbd2dcd1 button');\n",
              "      quickchartButtonEl.style.display =\n",
              "        google.colab.kernel.accessAllowed ? 'block' : 'none';\n",
              "    })();\n",
              "  </script>\n",
              "</div>\n",
              "\n",
              "    </div>\n",
              "  </div>\n"
            ]
          },
          "metadata": {},
          "execution_count": 16
        }
      ]
    },
    {
      "cell_type": "markdown",
      "source": [
        "###Evaluation\n",
        "\n",
        "Based on the structure above it looks like we have a number of participents in the data set who have each taken part in signing a word. Denoted by their participant ID.\n",
        "\n",
        "We can also see that there are multiple signes in the data set that are denoted by their sign ID each corriponding to a participant_id and a parquet file for the landmark data."
      ],
      "metadata": {
        "id": "I-yeYFYqs-kA"
      }
    },
    {
      "cell_type": "code",
      "source": [
        "# Taking a look at the sign_to_prediction_index_map.json file\n",
        "df = pd.read_csv('/content/sign_to_prediction_index_map.json')\n",
        "df.head()"
      ],
      "metadata": {
        "colab": {
          "base_uri": "https://localhost:8080/",
          "height": 116
        },
        "id": "vA5M-I2AqDgl",
        "outputId": "3be7c036-a419-4a40-e140-953d63eb27d7"
      },
      "execution_count": 17,
      "outputs": [
        {
          "output_type": "execute_result",
          "data": {
            "text/plain": [
              "Empty DataFrame\n",
              "Columns: [{\"TV\": 0,  \"after\": 1,  \"airplane\": 2,  \"all\": 3,  \"alligator\": 4,  \"animal\": 5,  \"another\": 6,  \"any\": 7,  \"apple\": 8,  \"arm\": 9,  \"aunt\": 10,  \"awake\": 11,  \"backyard\": 12,  \"bad\": 13,  \"balloon\": 14,  \"bath\": 15,  \"because\": 16,  \"bed\": 17,  \"bedroom\": 18,  \"bee\": 19,  \"before\": 20,  \"beside\": 21,  \"better\": 22,  \"bird\": 23,  \"black\": 24,  \"blow\": 25,  \"blue\": 26,  \"boat\": 27,  \"book\": 28,  \"boy\": 29,  \"brother\": 30,  \"brown\": 31,  \"bug\": 32,  \"bye\": 33,  \"callonphone\": 34,  \"can\": 35,  \"car\": 36,  \"carrot\": 37,  \"cat\": 38,  \"cereal\": 39,  \"chair\": 40,  \"cheek\": 41,  \"child\": 42,  \"chin\": 43,  \"chocolate\": 44,  \"clean\": 45,  \"close\": 46,  \"closet\": 47,  \"cloud\": 48,  \"clown\": 49,  \"cow\": 50,  \"cowboy\": 51,  \"cry\": 52,  \"cut\": 53,  \"cute\": 54,  \"dad\": 55,  \"dance\": 56,  \"dirty\": 57,  \"dog\": 58,  \"doll\": 59,  \"donkey\": 60,  \"down\": 61,  \"drawer\": 62,  \"drink\": 63,  \"drop\": 64,  \"dry\": 65,  \"dryer\": 66,  \"duck\": 67,  \"ear\": 68,  \"elephant\": 69,  \"empty\": 70,  \"every\": 71,  \"eye\": 72,  \"face\": 73,  \"fall\": 74,  \"farm\": 75,  \"fast\": 76,  \"feet\": 77,  \"find\": 78,  \"fine\": 79,  \"finger\": 80,  \"finish\": 81,  \"fireman\": 82,  \"first\": 83,  \"fish\": 84,  \"flag\": 85,  \"flower\": 86,  \"food\": 87,  \"for\": 88,  \"frenchfries\": 89,  \"frog\": 90,  \"garbage\": 91,  \"gift\": 92,  \"giraffe\": 93,  \"girl\": 94,  \"give\": 95,  \"glasswindow\": 96,  \"go\": 97,  \"goose\": 98,  \"grandma\": 99, ...]\n",
              "Index: []\n",
              "\n",
              "[0 rows x 250 columns]"
            ],
            "text/html": [
              "\n",
              "  <div id=\"df-5bd5d84e-600d-49e0-bd4a-cde3193e1e5b\" class=\"colab-df-container\">\n",
              "    <div>\n",
              "<style scoped>\n",
              "    .dataframe tbody tr th:only-of-type {\n",
              "        vertical-align: middle;\n",
              "    }\n",
              "\n",
              "    .dataframe tbody tr th {\n",
              "        vertical-align: top;\n",
              "    }\n",
              "\n",
              "    .dataframe thead th {\n",
              "        text-align: right;\n",
              "    }\n",
              "</style>\n",
              "<table border=\"1\" class=\"dataframe\">\n",
              "  <thead>\n",
              "    <tr style=\"text-align: right;\">\n",
              "      <th></th>\n",
              "      <th>{\"TV\": 0</th>\n",
              "      <th>\"after\": 1</th>\n",
              "      <th>\"airplane\": 2</th>\n",
              "      <th>\"all\": 3</th>\n",
              "      <th>\"alligator\": 4</th>\n",
              "      <th>\"animal\": 5</th>\n",
              "      <th>\"another\": 6</th>\n",
              "      <th>\"any\": 7</th>\n",
              "      <th>\"apple\": 8</th>\n",
              "      <th>\"arm\": 9</th>\n",
              "      <th>...</th>\n",
              "      <th>\"why\": 240</th>\n",
              "      <th>\"will\": 241</th>\n",
              "      <th>\"wolf\": 242</th>\n",
              "      <th>\"yellow\": 243</th>\n",
              "      <th>\"yes\": 244</th>\n",
              "      <th>\"yesterday\": 245</th>\n",
              "      <th>\"yourself\": 246</th>\n",
              "      <th>\"yucky\": 247</th>\n",
              "      <th>\"zebra\": 248</th>\n",
              "      <th>\"zipper\": 249}</th>\n",
              "    </tr>\n",
              "  </thead>\n",
              "  <tbody>\n",
              "  </tbody>\n",
              "</table>\n",
              "<p>0 rows × 250 columns</p>\n",
              "</div>\n",
              "    <div class=\"colab-df-buttons\">\n",
              "\n",
              "  <div class=\"colab-df-container\">\n",
              "    <button class=\"colab-df-convert\" onclick=\"convertToInteractive('df-5bd5d84e-600d-49e0-bd4a-cde3193e1e5b')\"\n",
              "            title=\"Convert this dataframe to an interactive table.\"\n",
              "            style=\"display:none;\">\n",
              "\n",
              "  <svg xmlns=\"http://www.w3.org/2000/svg\" height=\"24px\" viewBox=\"0 -960 960 960\">\n",
              "    <path d=\"M120-120v-720h720v720H120Zm60-500h600v-160H180v160Zm220 220h160v-160H400v160Zm0 220h160v-160H400v160ZM180-400h160v-160H180v160Zm440 0h160v-160H620v160ZM180-180h160v-160H180v160Zm440 0h160v-160H620v160Z\"/>\n",
              "  </svg>\n",
              "    </button>\n",
              "\n",
              "  <style>\n",
              "    .colab-df-container {\n",
              "      display:flex;\n",
              "      gap: 12px;\n",
              "    }\n",
              "\n",
              "    .colab-df-convert {\n",
              "      background-color: #E8F0FE;\n",
              "      border: none;\n",
              "      border-radius: 50%;\n",
              "      cursor: pointer;\n",
              "      display: none;\n",
              "      fill: #1967D2;\n",
              "      height: 32px;\n",
              "      padding: 0 0 0 0;\n",
              "      width: 32px;\n",
              "    }\n",
              "\n",
              "    .colab-df-convert:hover {\n",
              "      background-color: #E2EBFA;\n",
              "      box-shadow: 0px 1px 2px rgba(60, 64, 67, 0.3), 0px 1px 3px 1px rgba(60, 64, 67, 0.15);\n",
              "      fill: #174EA6;\n",
              "    }\n",
              "\n",
              "    .colab-df-buttons div {\n",
              "      margin-bottom: 4px;\n",
              "    }\n",
              "\n",
              "    [theme=dark] .colab-df-convert {\n",
              "      background-color: #3B4455;\n",
              "      fill: #D2E3FC;\n",
              "    }\n",
              "\n",
              "    [theme=dark] .colab-df-convert:hover {\n",
              "      background-color: #434B5C;\n",
              "      box-shadow: 0px 1px 3px 1px rgba(0, 0, 0, 0.15);\n",
              "      filter: drop-shadow(0px 1px 2px rgba(0, 0, 0, 0.3));\n",
              "      fill: #FFFFFF;\n",
              "    }\n",
              "  </style>\n",
              "\n",
              "    <script>\n",
              "      const buttonEl =\n",
              "        document.querySelector('#df-5bd5d84e-600d-49e0-bd4a-cde3193e1e5b button.colab-df-convert');\n",
              "      buttonEl.style.display =\n",
              "        google.colab.kernel.accessAllowed ? 'block' : 'none';\n",
              "\n",
              "      async function convertToInteractive(key) {\n",
              "        const element = document.querySelector('#df-5bd5d84e-600d-49e0-bd4a-cde3193e1e5b');\n",
              "        const dataTable =\n",
              "          await google.colab.kernel.invokeFunction('convertToInteractive',\n",
              "                                                    [key], {});\n",
              "        if (!dataTable) return;\n",
              "\n",
              "        const docLinkHtml = 'Like what you see? Visit the ' +\n",
              "          '<a target=\"_blank\" href=https://colab.research.google.com/notebooks/data_table.ipynb>data table notebook</a>'\n",
              "          + ' to learn more about interactive tables.';\n",
              "        element.innerHTML = '';\n",
              "        dataTable['output_type'] = 'display_data';\n",
              "        await google.colab.output.renderOutput(dataTable, element);\n",
              "        const docLink = document.createElement('div');\n",
              "        docLink.innerHTML = docLinkHtml;\n",
              "        element.appendChild(docLink);\n",
              "      }\n",
              "    </script>\n",
              "  </div>\n",
              "\n",
              "\n",
              "    </div>\n",
              "  </div>\n"
            ]
          },
          "metadata": {},
          "execution_count": 17
        }
      ]
    },
    {
      "cell_type": "code",
      "source": [
        "#After unzipping we have a folder named train_landmark_files in our current directory with the following files\n",
        "!ls '/content/train_landmark_files'"
      ],
      "metadata": {
        "colab": {
          "base_uri": "https://localhost:8080/",
          "height": 0
        },
        "id": "FmhYwOgvpVgZ",
        "outputId": "099c8732-c31c-47d6-bab4-51b67ec1ebcd"
      },
      "execution_count": 18,
      "outputs": [
        {
          "output_type": "stream",
          "name": "stdout",
          "text": [
            "16069  2044   25571  27610  29302  32319  36257  37779\t49445  55372  62590\n",
            "18796  22343  26734  28656  30680  34503  37055  4718\t53618  61333\n"
          ]
        }
      ]
    },
    {
      "cell_type": "code",
      "source": [
        "#Example of file count in one of our folders\n",
        "!ls -l '/content/train_landmark_files/16069' | wc -l\n",
        "!ls -l '/content/train_landmark_files/18796' | wc -l"
      ],
      "metadata": {
        "colab": {
          "base_uri": "https://localhost:8080/",
          "height": 0
        },
        "id": "DQMVDJ_ElaVM",
        "outputId": "1291ea7e-45c4-49e5-a7f4-5d610e196264"
      },
      "execution_count": 19,
      "outputs": [
        {
          "output_type": "stream",
          "name": "stdout",
          "text": [
            "4849\n",
            "3503\n"
          ]
        }
      ]
    },
    {
      "cell_type": "code",
      "source": [
        "#Based in vusila inspcetion it seems like all of the folders have the same data type a Parquet file\n",
        "#Let's look at one of the files\n",
        "!file \"/content/train_landmark_files/16069/100015657.parquet\"\n"
      ],
      "metadata": {
        "colab": {
          "base_uri": "https://localhost:8080/",
          "height": 0
        },
        "id": "husU15Val_qU",
        "outputId": "d1bbe4a5-3612-4612-c4c3-5e38bfa7802c"
      },
      "execution_count": 20,
      "outputs": [
        {
          "output_type": "stream",
          "name": "stdout",
          "text": [
            "/content/train_landmark_files/16069/100015657.parquet: Apache Parquet\n"
          ]
        }
      ]
    },
    {
      "cell_type": "markdown",
      "source": [
        "#Exploratory Data Analysis\n",
        "\n"
      ],
      "metadata": {
        "id": "BTHnToQGtlzi"
      }
    },
    {
      "cell_type": "markdown",
      "source": [
        "For the Exploratory Data Analysis, we'll focus on understanding the train.csv file's contents and characteristics.\n",
        "\n",
        "\n",
        "> Basic Descriptive Statistics: This includes counts, means, and other statistical measures that give a quick overview of the data.\n",
        "\n",
        "\n",
        "> Missing Values Check: To ensure the integrity of the dataset, we will check for any missing values.\n",
        "\n",
        "\n",
        "> Visualization of Sign Distribution: A visual representation (such as a histogram or bar chart) to show the distribution of different signs in the dataset.\n",
        "\n",
        "\n",
        "\n",
        "Additionally, we'll analyze:\n",
        "\n",
        "> The number of unique signs in the dataset.\n",
        "\n",
        "\n",
        "> The number of unique participants.\n",
        "\n",
        "\n",
        "> The distribution of the number of .parquet files (landmark files) per sign, focusing on the top 20 signs with the most files\n"
      ],
      "metadata": {
        "id": "ioBfLGC5tuK4"
      }
    },
    {
      "cell_type": "code",
      "source": [
        "# Lets start by creating our data frame\n",
        "\n",
        "# Load the train.csv file into a DataFrame\n",
        "train_csv_path = '/content/train.csv'\n",
        "train_df = pd.read_csv(train_csv_path)"
      ],
      "metadata": {
        "id": "EM7EKMT0miiB"
      },
      "execution_count": 21,
      "outputs": []
    },
    {
      "cell_type": "code",
      "source": [
        "#Show basic Descriptive Statistics\n",
        "basic_stats = train_df.describe(include='all')\n",
        "basic_stats"
      ],
      "metadata": {
        "colab": {
          "base_uri": "https://localhost:8080/",
          "height": 394
        },
        "id": "ZxVJtqD6vCHC",
        "outputId": "3f575830-dfaf-4c37-a87b-74de49b6e0d5"
      },
      "execution_count": 22,
      "outputs": [
        {
          "output_type": "execute_result",
          "data": {
            "text/plain": [
              "                                                 path  participant_id  \\\n",
              "count                                           94477    94477.000000   \n",
              "unique                                          94477             NaN   \n",
              "top     train_landmark_files/26734/1000035562.parquet             NaN   \n",
              "freq                                                1             NaN   \n",
              "mean                                              NaN    33678.632366   \n",
              "std                                               NaN    16138.124387   \n",
              "min                                               NaN     2044.000000   \n",
              "25%                                               NaN    25571.000000   \n",
              "50%                                               NaN    32319.000000   \n",
              "75%                                               NaN    49445.000000   \n",
              "max                                               NaN    62590.000000   \n",
              "\n",
              "         sequence_id    sign  \n",
              "count   9.447700e+04   94477  \n",
              "unique           NaN     250  \n",
              "top              NaN  listen  \n",
              "freq             NaN     415  \n",
              "mean    2.149377e+09     NaN  \n",
              "std     1.239239e+09     NaN  \n",
              "min     8.528200e+04     NaN  \n",
              "25%     1.078076e+09     NaN  \n",
              "50%     2.154240e+09     NaN  \n",
              "75%     3.218820e+09     NaN  \n",
              "max     4.294915e+09     NaN  "
            ],
            "text/html": [
              "\n",
              "  <div id=\"df-14b7e01f-a072-42de-a045-f187a7223328\" class=\"colab-df-container\">\n",
              "    <div>\n",
              "<style scoped>\n",
              "    .dataframe tbody tr th:only-of-type {\n",
              "        vertical-align: middle;\n",
              "    }\n",
              "\n",
              "    .dataframe tbody tr th {\n",
              "        vertical-align: top;\n",
              "    }\n",
              "\n",
              "    .dataframe thead th {\n",
              "        text-align: right;\n",
              "    }\n",
              "</style>\n",
              "<table border=\"1\" class=\"dataframe\">\n",
              "  <thead>\n",
              "    <tr style=\"text-align: right;\">\n",
              "      <th></th>\n",
              "      <th>path</th>\n",
              "      <th>participant_id</th>\n",
              "      <th>sequence_id</th>\n",
              "      <th>sign</th>\n",
              "    </tr>\n",
              "  </thead>\n",
              "  <tbody>\n",
              "    <tr>\n",
              "      <th>count</th>\n",
              "      <td>94477</td>\n",
              "      <td>94477.000000</td>\n",
              "      <td>9.447700e+04</td>\n",
              "      <td>94477</td>\n",
              "    </tr>\n",
              "    <tr>\n",
              "      <th>unique</th>\n",
              "      <td>94477</td>\n",
              "      <td>NaN</td>\n",
              "      <td>NaN</td>\n",
              "      <td>250</td>\n",
              "    </tr>\n",
              "    <tr>\n",
              "      <th>top</th>\n",
              "      <td>train_landmark_files/26734/1000035562.parquet</td>\n",
              "      <td>NaN</td>\n",
              "      <td>NaN</td>\n",
              "      <td>listen</td>\n",
              "    </tr>\n",
              "    <tr>\n",
              "      <th>freq</th>\n",
              "      <td>1</td>\n",
              "      <td>NaN</td>\n",
              "      <td>NaN</td>\n",
              "      <td>415</td>\n",
              "    </tr>\n",
              "    <tr>\n",
              "      <th>mean</th>\n",
              "      <td>NaN</td>\n",
              "      <td>33678.632366</td>\n",
              "      <td>2.149377e+09</td>\n",
              "      <td>NaN</td>\n",
              "    </tr>\n",
              "    <tr>\n",
              "      <th>std</th>\n",
              "      <td>NaN</td>\n",
              "      <td>16138.124387</td>\n",
              "      <td>1.239239e+09</td>\n",
              "      <td>NaN</td>\n",
              "    </tr>\n",
              "    <tr>\n",
              "      <th>min</th>\n",
              "      <td>NaN</td>\n",
              "      <td>2044.000000</td>\n",
              "      <td>8.528200e+04</td>\n",
              "      <td>NaN</td>\n",
              "    </tr>\n",
              "    <tr>\n",
              "      <th>25%</th>\n",
              "      <td>NaN</td>\n",
              "      <td>25571.000000</td>\n",
              "      <td>1.078076e+09</td>\n",
              "      <td>NaN</td>\n",
              "    </tr>\n",
              "    <tr>\n",
              "      <th>50%</th>\n",
              "      <td>NaN</td>\n",
              "      <td>32319.000000</td>\n",
              "      <td>2.154240e+09</td>\n",
              "      <td>NaN</td>\n",
              "    </tr>\n",
              "    <tr>\n",
              "      <th>75%</th>\n",
              "      <td>NaN</td>\n",
              "      <td>49445.000000</td>\n",
              "      <td>3.218820e+09</td>\n",
              "      <td>NaN</td>\n",
              "    </tr>\n",
              "    <tr>\n",
              "      <th>max</th>\n",
              "      <td>NaN</td>\n",
              "      <td>62590.000000</td>\n",
              "      <td>4.294915e+09</td>\n",
              "      <td>NaN</td>\n",
              "    </tr>\n",
              "  </tbody>\n",
              "</table>\n",
              "</div>\n",
              "    <div class=\"colab-df-buttons\">\n",
              "\n",
              "  <div class=\"colab-df-container\">\n",
              "    <button class=\"colab-df-convert\" onclick=\"convertToInteractive('df-14b7e01f-a072-42de-a045-f187a7223328')\"\n",
              "            title=\"Convert this dataframe to an interactive table.\"\n",
              "            style=\"display:none;\">\n",
              "\n",
              "  <svg xmlns=\"http://www.w3.org/2000/svg\" height=\"24px\" viewBox=\"0 -960 960 960\">\n",
              "    <path d=\"M120-120v-720h720v720H120Zm60-500h600v-160H180v160Zm220 220h160v-160H400v160Zm0 220h160v-160H400v160ZM180-400h160v-160H180v160Zm440 0h160v-160H620v160ZM180-180h160v-160H180v160Zm440 0h160v-160H620v160Z\"/>\n",
              "  </svg>\n",
              "    </button>\n",
              "\n",
              "  <style>\n",
              "    .colab-df-container {\n",
              "      display:flex;\n",
              "      gap: 12px;\n",
              "    }\n",
              "\n",
              "    .colab-df-convert {\n",
              "      background-color: #E8F0FE;\n",
              "      border: none;\n",
              "      border-radius: 50%;\n",
              "      cursor: pointer;\n",
              "      display: none;\n",
              "      fill: #1967D2;\n",
              "      height: 32px;\n",
              "      padding: 0 0 0 0;\n",
              "      width: 32px;\n",
              "    }\n",
              "\n",
              "    .colab-df-convert:hover {\n",
              "      background-color: #E2EBFA;\n",
              "      box-shadow: 0px 1px 2px rgba(60, 64, 67, 0.3), 0px 1px 3px 1px rgba(60, 64, 67, 0.15);\n",
              "      fill: #174EA6;\n",
              "    }\n",
              "\n",
              "    .colab-df-buttons div {\n",
              "      margin-bottom: 4px;\n",
              "    }\n",
              "\n",
              "    [theme=dark] .colab-df-convert {\n",
              "      background-color: #3B4455;\n",
              "      fill: #D2E3FC;\n",
              "    }\n",
              "\n",
              "    [theme=dark] .colab-df-convert:hover {\n",
              "      background-color: #434B5C;\n",
              "      box-shadow: 0px 1px 3px 1px rgba(0, 0, 0, 0.15);\n",
              "      filter: drop-shadow(0px 1px 2px rgba(0, 0, 0, 0.3));\n",
              "      fill: #FFFFFF;\n",
              "    }\n",
              "  </style>\n",
              "\n",
              "    <script>\n",
              "      const buttonEl =\n",
              "        document.querySelector('#df-14b7e01f-a072-42de-a045-f187a7223328 button.colab-df-convert');\n",
              "      buttonEl.style.display =\n",
              "        google.colab.kernel.accessAllowed ? 'block' : 'none';\n",
              "\n",
              "      async function convertToInteractive(key) {\n",
              "        const element = document.querySelector('#df-14b7e01f-a072-42de-a045-f187a7223328');\n",
              "        const dataTable =\n",
              "          await google.colab.kernel.invokeFunction('convertToInteractive',\n",
              "                                                    [key], {});\n",
              "        if (!dataTable) return;\n",
              "\n",
              "        const docLinkHtml = 'Like what you see? Visit the ' +\n",
              "          '<a target=\"_blank\" href=https://colab.research.google.com/notebooks/data_table.ipynb>data table notebook</a>'\n",
              "          + ' to learn more about interactive tables.';\n",
              "        element.innerHTML = '';\n",
              "        dataTable['output_type'] = 'display_data';\n",
              "        await google.colab.output.renderOutput(dataTable, element);\n",
              "        const docLink = document.createElement('div');\n",
              "        docLink.innerHTML = docLinkHtml;\n",
              "        element.appendChild(docLink);\n",
              "      }\n",
              "    </script>\n",
              "  </div>\n",
              "\n",
              "\n",
              "<div id=\"df-f8348482-347c-48c7-9cfc-03d9badaa95c\">\n",
              "  <button class=\"colab-df-quickchart\" onclick=\"quickchart('df-f8348482-347c-48c7-9cfc-03d9badaa95c')\"\n",
              "            title=\"Suggest charts\"\n",
              "            style=\"display:none;\">\n",
              "\n",
              "<svg xmlns=\"http://www.w3.org/2000/svg\" height=\"24px\"viewBox=\"0 0 24 24\"\n",
              "     width=\"24px\">\n",
              "    <g>\n",
              "        <path d=\"M19 3H5c-1.1 0-2 .9-2 2v14c0 1.1.9 2 2 2h14c1.1 0 2-.9 2-2V5c0-1.1-.9-2-2-2zM9 17H7v-7h2v7zm4 0h-2V7h2v10zm4 0h-2v-4h2v4z\"/>\n",
              "    </g>\n",
              "</svg>\n",
              "  </button>\n",
              "\n",
              "<style>\n",
              "  .colab-df-quickchart {\n",
              "      --bg-color: #E8F0FE;\n",
              "      --fill-color: #1967D2;\n",
              "      --hover-bg-color: #E2EBFA;\n",
              "      --hover-fill-color: #174EA6;\n",
              "      --disabled-fill-color: #AAA;\n",
              "      --disabled-bg-color: #DDD;\n",
              "  }\n",
              "\n",
              "  [theme=dark] .colab-df-quickchart {\n",
              "      --bg-color: #3B4455;\n",
              "      --fill-color: #D2E3FC;\n",
              "      --hover-bg-color: #434B5C;\n",
              "      --hover-fill-color: #FFFFFF;\n",
              "      --disabled-bg-color: #3B4455;\n",
              "      --disabled-fill-color: #666;\n",
              "  }\n",
              "\n",
              "  .colab-df-quickchart {\n",
              "    background-color: var(--bg-color);\n",
              "    border: none;\n",
              "    border-radius: 50%;\n",
              "    cursor: pointer;\n",
              "    display: none;\n",
              "    fill: var(--fill-color);\n",
              "    height: 32px;\n",
              "    padding: 0;\n",
              "    width: 32px;\n",
              "  }\n",
              "\n",
              "  .colab-df-quickchart:hover {\n",
              "    background-color: var(--hover-bg-color);\n",
              "    box-shadow: 0 1px 2px rgba(60, 64, 67, 0.3), 0 1px 3px 1px rgba(60, 64, 67, 0.15);\n",
              "    fill: var(--button-hover-fill-color);\n",
              "  }\n",
              "\n",
              "  .colab-df-quickchart-complete:disabled,\n",
              "  .colab-df-quickchart-complete:disabled:hover {\n",
              "    background-color: var(--disabled-bg-color);\n",
              "    fill: var(--disabled-fill-color);\n",
              "    box-shadow: none;\n",
              "  }\n",
              "\n",
              "  .colab-df-spinner {\n",
              "    border: 2px solid var(--fill-color);\n",
              "    border-color: transparent;\n",
              "    border-bottom-color: var(--fill-color);\n",
              "    animation:\n",
              "      spin 1s steps(1) infinite;\n",
              "  }\n",
              "\n",
              "  @keyframes spin {\n",
              "    0% {\n",
              "      border-color: transparent;\n",
              "      border-bottom-color: var(--fill-color);\n",
              "      border-left-color: var(--fill-color);\n",
              "    }\n",
              "    20% {\n",
              "      border-color: transparent;\n",
              "      border-left-color: var(--fill-color);\n",
              "      border-top-color: var(--fill-color);\n",
              "    }\n",
              "    30% {\n",
              "      border-color: transparent;\n",
              "      border-left-color: var(--fill-color);\n",
              "      border-top-color: var(--fill-color);\n",
              "      border-right-color: var(--fill-color);\n",
              "    }\n",
              "    40% {\n",
              "      border-color: transparent;\n",
              "      border-right-color: var(--fill-color);\n",
              "      border-top-color: var(--fill-color);\n",
              "    }\n",
              "    60% {\n",
              "      border-color: transparent;\n",
              "      border-right-color: var(--fill-color);\n",
              "    }\n",
              "    80% {\n",
              "      border-color: transparent;\n",
              "      border-right-color: var(--fill-color);\n",
              "      border-bottom-color: var(--fill-color);\n",
              "    }\n",
              "    90% {\n",
              "      border-color: transparent;\n",
              "      border-bottom-color: var(--fill-color);\n",
              "    }\n",
              "  }\n",
              "</style>\n",
              "\n",
              "  <script>\n",
              "    async function quickchart(key) {\n",
              "      const quickchartButtonEl =\n",
              "        document.querySelector('#' + key + ' button');\n",
              "      quickchartButtonEl.disabled = true;  // To prevent multiple clicks.\n",
              "      quickchartButtonEl.classList.add('colab-df-spinner');\n",
              "      try {\n",
              "        const charts = await google.colab.kernel.invokeFunction(\n",
              "            'suggestCharts', [key], {});\n",
              "      } catch (error) {\n",
              "        console.error('Error during call to suggestCharts:', error);\n",
              "      }\n",
              "      quickchartButtonEl.classList.remove('colab-df-spinner');\n",
              "      quickchartButtonEl.classList.add('colab-df-quickchart-complete');\n",
              "    }\n",
              "    (() => {\n",
              "      let quickchartButtonEl =\n",
              "        document.querySelector('#df-f8348482-347c-48c7-9cfc-03d9badaa95c button');\n",
              "      quickchartButtonEl.style.display =\n",
              "        google.colab.kernel.accessAllowed ? 'block' : 'none';\n",
              "    })();\n",
              "  </script>\n",
              "</div>\n",
              "\n",
              "  <div id=\"id_50b1aba8-5cc5-472a-a3cf-a37408e5d296\">\n",
              "    <style>\n",
              "      .colab-df-generate {\n",
              "        background-color: #E8F0FE;\n",
              "        border: none;\n",
              "        border-radius: 50%;\n",
              "        cursor: pointer;\n",
              "        display: none;\n",
              "        fill: #1967D2;\n",
              "        height: 32px;\n",
              "        padding: 0 0 0 0;\n",
              "        width: 32px;\n",
              "      }\n",
              "\n",
              "      .colab-df-generate:hover {\n",
              "        background-color: #E2EBFA;\n",
              "        box-shadow: 0px 1px 2px rgba(60, 64, 67, 0.3), 0px 1px 3px 1px rgba(60, 64, 67, 0.15);\n",
              "        fill: #174EA6;\n",
              "      }\n",
              "\n",
              "      [theme=dark] .colab-df-generate {\n",
              "        background-color: #3B4455;\n",
              "        fill: #D2E3FC;\n",
              "      }\n",
              "\n",
              "      [theme=dark] .colab-df-generate:hover {\n",
              "        background-color: #434B5C;\n",
              "        box-shadow: 0px 1px 3px 1px rgba(0, 0, 0, 0.15);\n",
              "        filter: drop-shadow(0px 1px 2px rgba(0, 0, 0, 0.3));\n",
              "        fill: #FFFFFF;\n",
              "      }\n",
              "    </style>\n",
              "    <button class=\"colab-df-generate\" onclick=\"generateWithVariable('basic_stats')\"\n",
              "            title=\"Generate code using this dataframe.\"\n",
              "            style=\"display:none;\">\n",
              "\n",
              "  <svg xmlns=\"http://www.w3.org/2000/svg\" height=\"24px\"viewBox=\"0 0 24 24\"\n",
              "       width=\"24px\">\n",
              "    <path d=\"M7,19H8.4L18.45,9,17,7.55,7,17.6ZM5,21V16.75L18.45,3.32a2,2,0,0,1,2.83,0l1.4,1.43a1.91,1.91,0,0,1,.58,1.4,1.91,1.91,0,0,1-.58,1.4L9.25,21ZM18.45,9,17,7.55Zm-12,3A5.31,5.31,0,0,0,4.9,8.1,5.31,5.31,0,0,0,1,6.5,5.31,5.31,0,0,0,4.9,4.9,5.31,5.31,0,0,0,6.5,1,5.31,5.31,0,0,0,8.1,4.9,5.31,5.31,0,0,0,12,6.5,5.46,5.46,0,0,0,6.5,12Z\"/>\n",
              "  </svg>\n",
              "    </button>\n",
              "    <script>\n",
              "      (() => {\n",
              "      const buttonEl =\n",
              "        document.querySelector('#id_50b1aba8-5cc5-472a-a3cf-a37408e5d296 button.colab-df-generate');\n",
              "      buttonEl.style.display =\n",
              "        google.colab.kernel.accessAllowed ? 'block' : 'none';\n",
              "\n",
              "      buttonEl.onclick = () => {\n",
              "        google.colab.notebook.generateWithVariable('basic_stats');\n",
              "      }\n",
              "      })();\n",
              "    </script>\n",
              "  </div>\n",
              "\n",
              "    </div>\n",
              "  </div>\n"
            ]
          },
          "metadata": {},
          "execution_count": 22
        }
      ]
    },
    {
      "cell_type": "code",
      "source": [
        "# Number of Unique Signs in the data set\n",
        "unique_signs_count = train_df['sign'].nunique()\n",
        "unique_signs_count"
      ],
      "metadata": {
        "colab": {
          "base_uri": "https://localhost:8080/",
          "height": 0
        },
        "id": "rZpA95TxvGID",
        "outputId": "0db0c630-4c5e-46ee-c363-77e48e7379aa"
      },
      "execution_count": 23,
      "outputs": [
        {
          "output_type": "execute_result",
          "data": {
            "text/plain": [
              "250"
            ]
          },
          "metadata": {},
          "execution_count": 23
        }
      ]
    },
    {
      "cell_type": "code",
      "source": [
        "#  Next we calculate the number of unique participants in the dataset.\n",
        "unique_participants_count = train_df['participant_id'].nunique()\n",
        "unique_participants_count"
      ],
      "metadata": {
        "colab": {
          "base_uri": "https://localhost:8080/",
          "height": 0
        },
        "id": "voYIgOIDvefa",
        "outputId": "d6c10ec3-b491-4d07-fff4-f3d60ac5d98c"
      },
      "execution_count": 24,
      "outputs": [
        {
          "output_type": "execute_result",
          "data": {
            "text/plain": [
              "21"
            ]
          },
          "metadata": {},
          "execution_count": 24
        }
      ]
    },
    {
      "cell_type": "code",
      "source": [
        "# To understand which signs have the most data points, we look at the distribution of .parquet files per sign.\n",
        "parquets_per_sign = train_df['sign'].value_counts().head(20)\n",
        "parquets_per_sign"
      ],
      "metadata": {
        "colab": {
          "base_uri": "https://localhost:8080/",
          "height": 0
        },
        "id": "O7FDjdaZv9Ws",
        "outputId": "e92cd722-b7e4-4e58-fe2b-d5d4b581209e"
      },
      "execution_count": 25,
      "outputs": [
        {
          "output_type": "execute_result",
          "data": {
            "text/plain": [
              "listen        415\n",
              "look          414\n",
              "shhh          411\n",
              "donkey        410\n",
              "mouse         408\n",
              "duck          405\n",
              "hear          405\n",
              "uncle         405\n",
              "pretend       404\n",
              "bird          404\n",
              "cow           404\n",
              "sleepy        403\n",
              "brown         403\n",
              "who           403\n",
              "bye           402\n",
              "nuts          402\n",
              "fireman       402\n",
              "lips          402\n",
              "toothbrush    402\n",
              "wake          401\n",
              "Name: sign, dtype: int64"
            ]
          },
          "metadata": {},
          "execution_count": 25
        }
      ]
    },
    {
      "cell_type": "code",
      "source": [
        "# To better visualize this we plot the distribution the top 20 signs\n",
        "\n",
        "# Preparing data for visualization\n",
        "top_signs = parquets_per_sign.index.tolist()\n",
        "top_signs_counts = parquets_per_sign.values.tolist()\n",
        "\n",
        "# Visualization code\n",
        "plt.figure(figsize=(15, 8))\n",
        "plt.bar(top_signs, top_signs_counts, color='skyblue')\n",
        "plt.xlabel('Signs')\n",
        "plt.ylabel('Number of Parquets')\n",
        "plt.title('Top 20 Signs with the Most Parquets')\n",
        "plt.xticks(rotation=45)\n",
        "plt.show()\n"
      ],
      "metadata": {
        "colab": {
          "base_uri": "https://localhost:8080/",
          "height": 488
        },
        "id": "zO1YtFaFwTJV",
        "outputId": "5fe1f845-5959-4ac6-a28b-ea5abf7b0119"
      },
      "execution_count": 26,
      "outputs": [
        {
          "output_type": "display_data",
          "data": {
            "text/plain": [
              "<Figure size 1500x800 with 1 Axes>"
            ],
            "image/png": "[encoded data removed]"
          },
          "metadata": {}
        }
      ]
    },
    {
      "cell_type": "code",
      "source": [
        "# Final lets check for missing values\n",
        "missing_values = train_df.isnull().sum()\n",
        "missing_values"
      ],
      "metadata": {
        "colab": {
          "base_uri": "https://localhost:8080/",
          "height": 0
        },
        "id": "CCKEvdOKwkSC",
        "outputId": "9f4c379d-c193-442a-96a7-de12a030bc94"
      },
      "execution_count": 27,
      "outputs": [
        {
          "output_type": "execute_result",
          "data": {
            "text/plain": [
              "path              0\n",
              "participant_id    0\n",
              "sequence_id       0\n",
              "sign              0\n",
              "dtype: int64"
            ]
          },
          "metadata": {},
          "execution_count": 27
        }
      ]
    },
    {
      "cell_type": "markdown",
      "source": [
        "##### **TODO** add more analysis for EDA in relation to parquet files"
      ],
      "metadata": {
        "id": "8KNOMbT8xH4v"
      }
    },
    {
      "cell_type": "markdown",
      "source": [
        "##Data pre-processing"
      ],
      "metadata": {
        "id": "PclyOnBBxR9H"
      }
    },
    {
      "cell_type": "markdown",
      "source": [
        "next step is data pre-processing. This phase involves preparing the .parquet files in the train_landmark_files folder, which contain the landmark data for the sign language gestures, for model training."
      ],
      "metadata": {
        "id": "Z-EiM0QOxwfF"
      }
    },
    {
      "cell_type": "code",
      "source": [
        "# Reading the .praquet files\n",
        "\n",
        "# Example of reading a single .parquet file\n",
        "file_path = 'train_landmark_files/16069/100015657.parquet'  # Replace with actual file path\n",
        "parquet_data = pd.read_parquet(file_path)\n",
        "parquet_data.head()\n",
        "parquet_data.shape"
      ],
      "metadata": {
        "colab": {
          "base_uri": "https://localhost:8080/",
          "height": 0
        },
        "id": "6PgEofgsx7tB",
        "outputId": "1d57bba9-7b23-4463-d795-6d47a66c7631"
      },
      "execution_count": 30,
      "outputs": [
        {
          "output_type": "execute_result",
          "data": {
            "text/plain": [
              "(57015, 7)"
            ]
          },
          "metadata": {},
          "execution_count": 30
        }
      ]
    },
    {
      "cell_type": "code",
      "source": [
        "# Now lets read all of the .parquet files in the train_landmark_files folder\n",
        "# We'll save the processed files in a log file incase we need to restart the process\n",
        "# We'll use the log file to skip files that have already been processed\n",
        "# We'll save prgress of our process in a batch file every 2000 files\n",
        "\n",
        "import os\n",
        "import pandas as pd\n",
        "from sklearn.preprocessing import MinMaxScaler\n",
        "import datetime\n",
        "\n",
        "def read_log(log_path):\n",
        "    if os.path.exists(log_path):\n",
        "        with open(log_path, 'r') as file:\n",
        "            processed_files = file.read().splitlines()\n",
        "        return set(processed_files)\n",
        "    else:\n",
        "        return set()\n",
        "\n",
        "def update_log(log_path, file_name):\n",
        "    with open(log_path, 'a') as file:\n",
        "        file.write(file_name + '\\n')\n",
        "\n",
        "root_folder = '/content/train_landmark_files'\n",
        "scaler = MinMaxScaler()\n",
        "batch_size = 2000\n",
        "log_path = 'processed_files_log.txt'\n",
        "processed_files = read_log(log_path)\n",
        "\n",
        "for subfolder in os.listdir(root_folder):\n",
        "    subfolder_path = os.path.join(root_folder, subfolder)\n",
        "    if os.path.isdir(subfolder_path):\n",
        "        all_data = pd.DataFrame()\n",
        "        file_count = 0\n",
        "\n",
        "        for file in os.listdir(subfolder_path):\n",
        "            if file in processed_files:\n",
        "                continue  # Skip if the file is already processed\n",
        "\n",
        "            file_path = os.path.join(subfolder_path, file)\n",
        "            parquet_data = pd.read_parquet(file_path)\n",
        "            data_of_interest = parquet_data[parquet_data['type'].isin(['left_hand', 'right_hand', 'pose'])].copy()\n",
        "            data_of_interest[['x', 'y', 'z']] = scaler.fit_transform(data_of_interest[['x', 'y', 'z']])\n",
        "            sequence_id = int(file.split('.')[0])\n",
        "            data_of_interest['sequence_id'] = sequence_id\n",
        "            all_data = pd.concat([all_data, data_of_interest], ignore_index=True)\n",
        "\n",
        "            update_log(log_path, file)  # Update the log\n",
        "            file_count += 1\n",
        "            if file_count >= batch_size:\n",
        "                break\n",
        "\n",
        "        batch_filename = f'batch_{len(processed_files)//batch_size}.csv'\n",
        "        all_data.to_csv(batch_filename, index=False)\n",
        "        print(f\"Batch {len(processed_files)//batch_size} saved. Timestamp: {datetime.datetime.now()}\")\n"
      ],
      "metadata": {
        "id": "E_i-8meuelb9"
      },
      "execution_count": null,
      "outputs": []
    },
    {
      "cell_type": "code",
      "source": [
        "# prompt: how check csv file\n",
        "\n",
        "import pandas as pd\n",
        "\n",
        "# Read the CSV file\n",
        "df = pd.read_csv('/content/batch_0 (2).csv')\n",
        "\n",
        "# Check the shape of the DataFrame\n",
        "print('\\n check the shape of the DataFrame:')\n",
        "print(df.shape)\n",
        "\n",
        "# Check the column names\n",
        "print( '\\n check the column names:')\n",
        "print(df.columns)\n",
        "\n",
        "# Check the data types of each column\n",
        "print('\\n check the data types of each column:')\n",
        "print(df.dtypes)\n",
        "\n",
        "# Check the missing values\n",
        "print('\\n check the missing values:')\n",
        "print(df.isnull().sum())\n",
        "\n",
        "# Check the unique values in each column\n",
        "print('\\n check the unique values in each column:')\n",
        "for column in df.columns:\n",
        "    print(df[column].unique())\n",
        "\n",
        "# Check the distribution of each column\n",
        "print('\\n check the distribution of each column:')\n",
        "for column in df.columns:\n",
        "    print(df[column].value_counts())\n"
      ],
      "metadata": {
        "colab": {
          "base_uri": "https://localhost:8080/",
          "height": 0
        },
        "id": "bC4YgSEjfgyp",
        "outputId": "7aa0d0d0-caa9-45e2-bf96-abd865dc6231"
      },
      "execution_count": 7,
      "outputs": [
        {
          "output_type": "stream",
          "name": "stdout",
          "text": [
            "\n",
            " check the shape of the DataFrame:\n",
            "(6854100, 8)\n",
            "\n",
            " check the column names:\n",
            "Index(['frame', 'row_id', 'type', 'landmark_index', 'x', 'y', 'z',\n",
            "       'sequence_id'],\n",
            "      dtype='object')\n",
            "\n",
            " check the data types of each column:\n",
            "frame               int64\n",
            "row_id             object\n",
            "type               object\n",
            "landmark_index      int64\n",
            "x                 float64\n",
            "y                 float64\n",
            "z                 float64\n",
            "sequence_id         int64\n",
            "dtype: object\n",
            "\n",
            " check the missing values:\n",
            "frame                   0\n",
            "row_id                  0\n",
            "type                    0\n",
            "landmark_index          0\n",
            "x                 2611371\n",
            "y                 2611371\n",
            "z                 2611371\n",
            "sequence_id             0\n",
            "dtype: int64\n",
            "\n",
            " check the unique values in each column:\n",
            "[ 28  29  30  31  32  33  34  35  36  37  38  39  40  41  42  43  44  45\n",
            "  46   0   1   2   3   4   5   6   7   8   9  10  11  12  13  14  15  16\n",
            "  17  18  19  20  21  22  23  24  25  26  27  47  48  49  50  51  52  53\n",
            "  54  55  56  57  58  59  60  61  62  63  64  65  66  67  68  69  70  71\n",
            "  72  73  74  75  76  77  78  79  80  81  82  83  84  85  86  87  88  89\n",
            "  90  91  92  93  94  95  96  97  98  99 100 101 102 103 104 105 106 107\n",
            " 108 109 110 111 112 113 114 115 116 117 118 119 120 121 122 123 124 125\n",
            " 126 127 128 129 130 131 132 133 134 135 136 137 138 139 140 141 142 143\n",
            " 144 145 146 147 148 149 150 151 152 153 154 155 156 157 158 159 160 161\n",
            " 162 163 164 165 166 167 168 169 170 171 172 173 174 175 176 177 178 179\n",
            " 180 181 182 183 184 185 186 187 188 189 190 191 192 193 194 195 196 197\n",
            " 198 199 200 201 202 203 204 205 206 207 208 209 210 211 212 213 214 215\n",
            " 216 217 218 219 220 221 222 223 224 225 226 227 228 229 230 231 232 233\n",
            " 234 235 236 237 238 239 240 241 242 243 244 245 246 247 248 249 250 251\n",
            " 252 253 254 255 256 257 258 259 260 261 262 263 264 265 266 267 268 269\n",
            " 270 271 272 273 274 275 276 277 278 279 280 281 282 283 284 285 286 287\n",
            " 288 289 290 291 292 293 294 295 296 297 298 299 300 301 302 303 304 305\n",
            " 306 307 308 309 310 311 312 313 314 315 316 317 318 319 320 321 322 323\n",
            " 324 325 326 327 328 329 330 331 332 333 334 335 336 337 338 339 340 341\n",
            " 342 343 344 345 346 347 348 349 350 351 352 353 354 355 356 357 358 359\n",
            " 360 361 362 363 364 365 366 367 368]\n",
            "['28-left_hand-0' '28-left_hand-1' '28-left_hand-2' ...\n",
            " '368-right_hand-18' '368-right_hand-19' '368-right_hand-20']\n",
            "['left_hand' 'pose' 'right_hand']\n",
            "[ 0  1  2  3  4  5  6  7  8  9 10 11 12 13 14 15 16 17 18 19 20 21 22 23\n",
            " 24 25 26 27 28 29 30 31 32]\n",
            "[       nan 0.45774874 0.49702824 ... 0.24177278 0.25391836 0.25731359]\n",
            "[       nan 0.05357234 0.02111482 ... 0.11386584 0.12666472 0.1371545 ]\n",
            "[       nan 0.26440656 0.27806687 ... 0.56036613 0.56105648 0.56260731]\n",
            "[ 775017794 2374631589 1809269714 ...  461538069 2403863845 3520591614]\n",
            "\n",
            " check the distribution of each column:\n",
            "31     104100\n",
            "32     104100\n",
            "33     103725\n",
            "34     103200\n",
            "30     102900\n",
            "        ...  \n",
            "355        75\n",
            "354        75\n",
            "353        75\n",
            "352        75\n",
            "368        75\n",
            "Name: frame, Length: 369, dtype: int64\n",
            "32-left_hand-18      1388\n",
            "31-right_hand-2      1388\n",
            "31-right_hand-0      1388\n",
            "31-pose-32           1388\n",
            "31-pose-31           1388\n",
            "                     ... \n",
            "357-pose-27             1\n",
            "357-pose-26             1\n",
            "357-pose-25             1\n",
            "357-pose-24             1\n",
            "368-right_hand-20       1\n",
            "Name: row_id, Length: 27675, dtype: int64\n",
            "pose          3015804\n",
            "left_hand     1919148\n",
            "right_hand    1919148\n",
            "Name: type, dtype: int64\n",
            "0     274164\n",
            "11    274164\n",
            "20    274164\n",
            "19    274164\n",
            "18    274164\n",
            "17    274164\n",
            "1     274164\n",
            "15    274164\n",
            "14    274164\n",
            "13    274164\n",
            "12    274164\n",
            "16    274164\n",
            "10    274164\n",
            "8     274164\n",
            "7     274164\n",
            "6     274164\n",
            "5     274164\n",
            "4     274164\n",
            "3     274164\n",
            "2     274164\n",
            "9     274164\n",
            "27     91388\n",
            "31     91388\n",
            "30     91388\n",
            "29     91388\n",
            "28     91388\n",
            "22     91388\n",
            "26     91388\n",
            "25     91388\n",
            "24     91388\n",
            "23     91388\n",
            "21     91388\n",
            "32     91388\n",
            "Name: landmark_index, dtype: int64\n",
            "0.000000    2000\n",
            "1.000000    1939\n",
            "1.000000      60\n",
            "0.851977       2\n",
            "0.341960       2\n",
            "            ... \n",
            "0.445724       1\n",
            "0.479908       1\n",
            "0.502889       1\n",
            "0.521004       1\n",
            "0.257314       1\n",
            "Name: x, Length: 4237907, dtype: int64\n",
            "0.000000    2000\n",
            "1.000000    1806\n",
            "1.000000     145\n",
            "1.000000      49\n",
            "0.009188       3\n",
            "            ... \n",
            "0.145814       1\n",
            "0.163988       1\n",
            "0.182917       1\n",
            "0.147290       1\n",
            "0.137155       1\n",
            "Name: y, Length: 4237438, dtype: int64\n",
            "0.000000    2000\n",
            "1.000000    1996\n",
            "1.000000       4\n",
            "0.656015       2\n",
            "0.768214       2\n",
            "            ... \n",
            "0.568731       1\n",
            "0.564664       1\n",
            "0.557889       1\n",
            "0.551387       1\n",
            "0.562607       1\n",
            "Name: z, Length: 4238532, dtype: int64\n",
            "2235701764    21375\n",
            "3896074830    18525\n",
            "2047975791    18450\n",
            "1478297125    18375\n",
            "1863870271    18225\n",
            "              ...  \n",
            "3304912458      225\n",
            "1868735223      150\n",
            "1142420711      150\n",
            "2189530106      150\n",
            "617950465       150\n",
            "Name: sequence_id, Length: 2000, dtype: int64\n"
          ]
        }
      ]
    },
    {
      "cell_type": "markdown",
      "source": [
        "\n",
        "Data Shape and Columns:\n",
        "\n",
        "The DataFrame has 6,854,100 rows and 8 columns. This is a large dataset, so efficient processing and memory management will be crucial.\n",
        "\n",
        "\n",
        "Data Types: Most columns are of expected types (integers and floats). Ensure these types align with the intended use in the model.\n",
        "\n",
        "Missing Values: Columns 'x', 'y', and 'z' have 2,611,371 missing values each. We'll handel these missing values by replacing them with 0's.\n",
        "\n",
        "Unique Values and Distribution: The distribution of values in columns like 'frame', 'row_id', 'type', and 'landmark_index' indicates a wide range of data points.\n",
        "The 'type' column suggests data from three categories: 'left_hand', 'right_hand', and 'pose'.\n",
        "\n",
        "The distribution of 'sequence_id' shows how many data points are available per sequence."
      ],
      "metadata": {
        "id": "VFMnIlnM07ox"
      }
    },
    {
      "cell_type": "markdown",
      "source": [
        "### Feature Engineering\n",
        "\n",
        "1.   **Landmark Aggregation**: For each frame and each type (left hand, right hand, pose), we would like to create a feature vector that aggregateates the landmark data. This means creating a single feature vector per frame per type that encapsulates all the landmarks.\n",
        "\n",
        "2.   **Temporal Features**: Since this is time-series data (sequential data across frames), we'll be creating features that capture the temporal aspect, like the change in position of landmarks from one frame to the next.\n",
        "\n",
        "Then we will reshape the data into a format that can be fed into the model.\n",
        "\n",
        "**Reshaping Data**: We reshape the data into a suitable format. For sequence models like LSTM or GRU (common in handling time-series data), we need to structure the data into sequences.\n"
      ],
      "metadata": {
        "id": "MxrYmZDC1wF5"
      }
    },
    {
      "cell_type": "code",
      "source": [
        "# Pull lables from train.csv\n",
        "\n",
        "# Read the train.csv file\n",
        "train_df = pd.read_csv('/content/train.csv')\n",
        "\n",
        "# Create a dictionary mapping from sequence_id to sign label\n",
        "sign_labels = dict(zip(train_df['sequence_id'], train_df['sign']))\n"
      ],
      "metadata": {
        "id": "fb1w5bvi-nvk"
      },
      "execution_count": 8,
      "outputs": []
    },
    {
      "cell_type": "code",
      "source": [
        "# Sample data for demonstration (replace with your actual DataFrame)\n",
        "import pandas as pd\n",
        "import numpy as np\n",
        "\n",
        "sequence_length = 20\n",
        "\n",
        "\n",
        "def create_temporal_features(df):\n",
        "    # Calculating differences in coordinates for each landmark\n",
        "    df[['x_diff', 'y_diff', 'z_diff']] = df.groupby(['sequence_id', 'type', 'landmark_index'])[['x', 'y', 'z']].diff().fillna(0)\n",
        "    temporal_features = []\n",
        "    for (sequence_id, frame, typ), group in df.groupby(['sequence_id', 'frame', 'type']):\n",
        "        sorted_group = group.sort_values(by='landmark_index')\n",
        "        differences = sorted_group[['x_diff', 'y_diff', 'z_diff']].values.flatten()\n",
        "        temporal_features.append((sequence_id, frame, typ, differences))\n",
        "    return pd.DataFrame(temporal_features, columns=['sequence_id', 'frame', 'type', 'Features'])\n",
        "temporal_data = create_temporal_features(df)\n",
        "\n",
        "# Function to validate features\n",
        "# This code will check if the feature vectors for a given frame and sequence_id in our dataset align with the expected structure.\n",
        "def validate_features(temporal_data, sequence_id, frame, expected_features):\n",
        "    frame_data = temporal_data[(temporal_data['sequence_id'] == sequence_id) & (temporal_data['frame'] == frame)]\n",
        "    for _, row in frame_data.iterrows():\n",
        "        features = row['Features']\n",
        "        if len(features) != expected_features[row['type']]:\n",
        "            return False, f\"Mismatch in features for type {row['type']} at frame {frame} of sequence {sequence_id}\"\n",
        "    return True, \"All features are correctly structured\"\n",
        "\n",
        "# Feature lengths for each type\n",
        "expected_feature_lengths = {\n",
        "    'left_hand': 63,  # 21 landmarks * 3 coordinates\n",
        "    'right_hand': 63,\n",
        "    'pose': 99  # 33 landmarks * 3 coordinates\n",
        "}\n",
        "\n",
        "# Validate for a particular frame and sequence_id\n",
        "validation_result = validate_features(temporal_data, sequence_id=1, frame=0, expected_features=expected_feature_lengths)\n",
        "print(validation_result)\n"
      ],
      "metadata": {
        "colab": {
          "base_uri": "https://localhost:8080/",
          "height": 0
        },
        "id": "FBn4U_Y67jZU",
        "outputId": "bce60a6c-8355-4401-9add-efbf777dd384"
      },
      "execution_count": 43,
      "outputs": [
        {
          "output_type": "stream",
          "name": "stdout",
          "text": [
            "(True, 'All features are correctly structured')\n"
          ]
        }
      ]
    },
    {
      "cell_type": "code",
      "source": [
        "from tensorflow.keras.preprocessing.sequence import pad_sequences\n",
        "\n",
        "sequence_length = 20\n",
        "\n",
        "def structure_data_for_lstm(temporal_data, sequence_length, sign_labels):\n",
        "    sequences = []\n",
        "    labels = []\n",
        "\n",
        "    for sequence_id in temporal_data['sequence_id'].unique():\n",
        "        sequence_data = temporal_data[temporal_data['sequence_id'] == sequence_id]\n",
        "        label = sign_labels.get(sequence_id)\n",
        "        if label is None:\n",
        "            continue\n",
        "\n",
        "        feature_vectors = []\n",
        "        for frame in range(sequence_data['frame'].max() + 1):\n",
        "            frame_data = sequence_data[sequence_data['frame'] == frame]\n",
        "            feature_vector = np.zeros(225)  # Initialize with zeros\n",
        "            # [Your code to create feature_vector for each type]\n",
        "            for typ in ['left_hand', 'right_hand', 'pose']:\n",
        "                type_data = frame_data[frame_data['type'] == typ]['Features']\n",
        "                if not type_data.empty:\n",
        "                    type_features = type_data.iloc[0]  # Assumes each type only has one row per frame\n",
        "                    # Check if type_features has the expected number of elements\n",
        "                    expected_length = 63 if typ in ['left_hand', 'right_hand'] else 99  # 99 for pose\n",
        "                    if len(type_features) == expected_length:\n",
        "                        start_index = 0 if typ == 'left_hand' else (63 if typ == 'right_hand' else 126)\n",
        "                        feature_vector[start_index:start_index + expected_length] = type_features\n",
        "                    else:\n",
        "                        # Handle the case where type_features is not as long as expected\n",
        "                        print(f\"Warning: Missing data for {typ} in sequence {sequence_id}, frame {frame}\")\n",
        "\n",
        "            feature_vectors.append(feature_vector)\n",
        "\n",
        "        # Padding the sequence\n",
        "        feature_vectors_padded = pad_sequences([feature_vectors], maxlen=sequence_length, padding='post', dtype='float32')[0]\n",
        "\n",
        "        sequences.append(feature_vectors_padded)\n",
        "        labels.append(label)\n",
        "\n",
        "    return np.array(sequences), np.array(labels)\n",
        "\n",
        "sequences, labels = structure_data_for_lstm(temporal_data, sequence_length, sign_labels)\n"
      ],
      "metadata": {
        "id": "JlcECmGjuW0x"
      },
      "execution_count": 95,
      "outputs": []
    },
    {
      "cell_type": "markdown",
      "source": [
        "## Model Building"
      ],
      "metadata": {
        "id": "70A9Z7-1pRdS"
      }
    },
    {
      "cell_type": "markdown",
      "source": [
        "### Number of Features\n",
        "we  have 21  unique landmarks for each hand and 33 landmarks for the pose.\n",
        "For each landmark, we have x, y, z coordinates.\n",
        "Thus, for each type (left hand, right hand, pose), you have 21 * 3 = 63 features for hands and 33 * 3 = 99 features for pose.\n",
        "If you're using all these features, n_features would be 63 (left hand) + 63 (right hand) + 99 (pose) = 225."
      ],
      "metadata": {
        "id": "Ja3GlKbmo4Ih"
      }
    },
    {
      "cell_type": "code",
      "source": [
        "# we use TensorFlow and Keras to define the LSTM model.\n",
        "# The model architecture can be simple to start with, and then we can expand or modify it based on the model's performance.\n",
        "\n",
        "from tensorflow.keras.models import Sequential\n",
        "from tensorflow.keras.layers import LSTM, Dense, Dropout\n",
        "\n",
        "# We are using 225 features and we are classifying into 'n_classes' categories\n",
        "n_features = 225\n",
        "n_classes = len(np.unique(labels))  # Calculate the number of unique labels\n",
        "\n",
        "# Define the sequence length (number of frames per sequence)\n",
        "\n",
        "\n",
        "# Define the LSTM model\n",
        "model = Sequential([\n",
        "    LSTM(50, return_sequences=True, input_shape=(sequence_length, n_features)),\n",
        "    Dropout(0.2),\n",
        "    LSTM(50),\n",
        "    Dropout(0.2),\n",
        "    Dense(n_classes, activation='softmax')  # Use 'softmax' for multi-class classification\n",
        "])\n",
        "\n",
        "# Output the number of classes and model summary\n",
        "print(f\"Number of classes: {n_classes}\")\n",
        "model.summary()\n"
      ],
      "metadata": {
        "colab": {
          "base_uri": "https://localhost:8080/",
          "height": 0
        },
        "id": "X60C9Na4ph9S",
        "outputId": "75a20ca7-c859-4297-90c5-c43069370b9d"
      },
      "execution_count": 97,
      "outputs": [
        {
          "output_type": "stream",
          "name": "stdout",
          "text": [
            "Number of classes: 250\n",
            "Model: \"sequential_8\"\n",
            "_________________________________________________________________\n",
            " Layer (type)                Output Shape              Param #   \n",
            "=================================================================\n",
            " lstm_16 (LSTM)              (None, 20, 50)            55200     \n",
            "                                                                 \n",
            " dropout_16 (Dropout)        (None, 20, 50)            0         \n",
            "                                                                 \n",
            " lstm_17 (LSTM)              (None, 50)                20200     \n",
            "                                                                 \n",
            " dropout_17 (Dropout)        (None, 50)                0         \n",
            "                                                                 \n",
            " dense_10 (Dense)            (None, 250)               12750     \n",
            "                                                                 \n",
            "=================================================================\n",
            "Total params: 88150 (344.34 KB)\n",
            "Trainable params: 88150 (344.34 KB)\n",
            "Non-trainable params: 0 (0.00 Byte)\n",
            "_________________________________________________________________\n"
          ]
        }
      ]
    },
    {
      "cell_type": "code",
      "source": [
        "# Compile the Model\n",
        "model.compile(optimizer='adam', loss='sparse_categorical_crossentropy', metrics=['accuracy'])\n"
      ],
      "metadata": {
        "id": "VNYJ9NdZqVNO"
      },
      "execution_count": 90,
      "outputs": []
    },
    {
      "cell_type": "code",
      "source": [
        "# Data Preparation for Training\n",
        "\n",
        "\n",
        "# Split the data into training and validation sets.\n",
        "# The split is 80% for training and 20% for validation.\n",
        "from sklearn.model_selection import train_test_split\n",
        "\n",
        "X_train, X_val, y_train, y_val = train_test_split(sequences, labels, test_size=0.2, random_state=64)\n",
        "\n",
        "# Check the shapes and types of the training and validation data\n",
        "print(X_train.shape, X_train.dtype)\n",
        "print(y_train.shape, y_train.dtype)\n",
        "print(X_val.shape, X_val.dtype)\n",
        "print(y_val.shape, y_val.dtype)\n"
      ],
      "metadata": {
        "colab": {
          "base_uri": "https://localhost:8080/"
        },
        "id": "qMpvH_n8qdc0",
        "outputId": "78d678c5-12b7-443f-f4f0-7c35e9af56de"
      },
      "execution_count": 140,
      "outputs": [
        {
          "output_type": "stream",
          "name": "stdout",
          "text": [
            "(1600, 20, 225) float32\n",
            "(1600,) <U12\n",
            "(400, 20, 225) float32\n",
            "(400,) <U12\n"
          ]
        }
      ]
    },
    {
      "cell_type": "markdown",
      "source": [
        "We can see from the data that the labels are encoded as integers but the features are strings. We need to convert them to integers."
      ],
      "metadata": {
        "id": "zY3Wq1GDxlvq"
      }
    },
    {
      "cell_type": "code",
      "source": [
        "from sklearn.preprocessing import LabelEncoder\n",
        "\n",
        "# Create the label encoder\n",
        "label_encoder = LabelEncoder()\n",
        "\n",
        "# Fit the encoder to your labels (all labels in dataset)\n",
        "label_encoder.fit(np.concatenate((y_train, y_val), axis=0))\n",
        "\n",
        "# Transform the training and validation labels\n",
        "y_train_encoded = label_encoder.transform(y_train)\n",
        "y_val_encoded = label_encoder.transform(y_val)\n",
        "\n",
        "# Check the shapes and types again\n",
        "print(y_train_encoded.shape, y_train_encoded.dtype)\n",
        "print(y_val_encoded.shape, y_val_encoded.dtype)\n"
      ],
      "metadata": {
        "colab": {
          "base_uri": "https://localhost:8080/"
        },
        "id": "a3MTxnp6TEST",
        "outputId": "1fca065d-b0ac-42dc-b08f-36d348175bb4"
      },
      "execution_count": 141,
      "outputs": [
        {
          "output_type": "stream",
          "name": "stdout",
          "text": [
            "(1600,) int64\n",
            "(400,) int64\n"
          ]
        }
      ]
    },
    {
      "cell_type": "code",
      "source": [
        "# Model Training\n",
        "history = model.fit(\n",
        "    X_train, y_train_encoded,  # Use integer-encoded labels for training\n",
        "    validation_data=(X_val, y_val_encoded),  # Use integer-encoded labels for validation\n",
        "    epochs=10,\n",
        "    batch_size=32\n",
        ")\n",
        "\n"
      ],
      "metadata": {
        "colab": {
          "base_uri": "https://localhost:8080/",
          "height": 0
        },
        "id": "9E4xA2I_qq77",
        "outputId": "bab715b4-0bac-4a81-aefc-05cfae81c7fc"
      },
      "execution_count": 93,
      "outputs": [
        {
          "output_type": "stream",
          "name": "stdout",
          "text": [
            "Epoch 1/10\n",
            "50/50 [==============================] - 4s 24ms/step - loss: 5.5225 - accuracy: 0.0031 - val_loss: 5.5216 - val_accuracy: 0.0125\n",
            "Epoch 2/10\n",
            "50/50 [==============================] - 0s 8ms/step - loss: 5.5165 - accuracy: 0.0088 - val_loss: 5.5251 - val_accuracy: 0.0025\n",
            "Epoch 3/10\n",
            "50/50 [==============================] - 0s 8ms/step - loss: 5.5025 - accuracy: 0.0056 - val_loss: 5.5253 - val_accuracy: 0.0000e+00\n",
            "Epoch 4/10\n",
            "50/50 [==============================] - 0s 8ms/step - loss: 5.4840 - accuracy: 0.0075 - val_loss: 5.5361 - val_accuracy: 0.0125\n",
            "Epoch 5/10\n",
            "50/50 [==============================] - 0s 8ms/step - loss: 5.4560 - accuracy: 0.0075 - val_loss: 5.5195 - val_accuracy: 0.0075\n",
            "Epoch 6/10\n",
            "50/50 [==============================] - 0s 8ms/step - loss: 5.4141 - accuracy: 0.0081 - val_loss: 5.5085 - val_accuracy: 0.0200\n",
            "Epoch 7/10\n",
            "50/50 [==============================] - 0s 8ms/step - loss: 5.3680 - accuracy: 0.0119 - val_loss: 5.4855 - val_accuracy: 0.0150\n",
            "Epoch 8/10\n",
            "50/50 [==============================] - 0s 8ms/step - loss: 5.3079 - accuracy: 0.0169 - val_loss: 5.4679 - val_accuracy: 0.0100\n",
            "Epoch 9/10\n",
            "50/50 [==============================] - 0s 8ms/step - loss: 5.2490 - accuracy: 0.0219 - val_loss: 5.4706 - val_accuracy: 0.0075\n",
            "Epoch 10/10\n",
            "50/50 [==============================] - 0s 8ms/step - loss: 5.1830 - accuracy: 0.0244 - val_loss: 5.4722 - val_accuracy: 0.0200\n"
          ]
        }
      ]
    },
    {
      "cell_type": "markdown",
      "source": [
        "Changing model architecture to Bidirectional LSTM to see if that improves performance"
      ],
      "metadata": {
        "id": "Ec4PQn4Qqttl"
      }
    },
    {
      "cell_type": "code",
      "source": [
        "from tensorflow.keras.models import Sequential\n",
        "from tensorflow.keras.layers import LSTM, Dense, Dropout, Bidirectional\n",
        "from tensorflow.keras.optimizers import Adam\n",
        "from tensorflow.keras.optimizers import RMSprop\n",
        "from tensorflow.keras.callbacks import ModelCheckpoint\n",
        "from tensorflow.keras.regularizers import l1_l2\n",
        "\n",
        "\n",
        "n_features = 225\n",
        "n_classes = len(np.unique(labels))\n",
        "\n",
        "regularizer = l1_l2(l1=0.01, l2=0.01)  # Example regularization parameters, these may need tuning\n",
        "\n",
        "\n",
        "model = Sequential([\n",
        "    Bidirectional(LSTM(200, return_sequences=True, input_shape=(sequence_length, n_features))),\n",
        "    Dropout(0.7),\n",
        "    Bidirectional(LSTM(200)),\n",
        "    Dropout(0.7),\n",
        "    Dense(100, activation='relu', kernel_regularizer=regularizer),\n",
        "    Dense(n_classes, activation='softmax')\n",
        "])\n",
        "\n",
        "# Using a custom learning rate\n",
        "#optimizer = Adam(learning_rate=0.0001)\n",
        "\n",
        "#model.compile(optimizer=optimizer, loss='sparse_categorical_crossentropy', metrics=['accuracy'])\n",
        "\n",
        "optimizer = RMSprop(learning_rate=0.0001)\n",
        "model.compile(optimizer=optimizer, loss='sparse_categorical_crossentropy', metrics=['accuracy'])\n",
        "sample_input = np.random.random((1, sequence_length, n_features))\n",
        "model(sample_input)\n",
        "\n",
        "model.summary()\n"
      ],
      "metadata": {
        "colab": {
          "base_uri": "https://localhost:8080/"
        },
        "id": "307kRzNinOvw",
        "outputId": "6b3b5750-024a-4c35-8a54-ff631f5bfaad"
      },
      "execution_count": 150,
      "outputs": [
        {
          "output_type": "stream",
          "name": "stdout",
          "text": [
            "Model: \"sequential_23\"\n",
            "_________________________________________________________________\n",
            " Layer (type)                Output Shape              Param #   \n",
            "=================================================================\n",
            " bidirectional_30 (Bidirect  (1, 20, 400)              681600    \n",
            " ional)                                                          \n",
            "                                                                 \n",
            " dropout_45 (Dropout)        (1, 20, 400)              0         \n",
            "                                                                 \n",
            " bidirectional_31 (Bidirect  (1, 400)                  961600    \n",
            " ional)                                                          \n",
            "                                                                 \n",
            " dropout_46 (Dropout)        (1, 400)                  0         \n",
            "                                                                 \n",
            " dense_37 (Dense)            (1, 100)                  40100     \n",
            "                                                                 \n",
            " dense_38 (Dense)            (1, 250)                  25250     \n",
            "                                                                 \n",
            "=================================================================\n",
            "Total params: 1708550 (6.52 MB)\n",
            "Trainable params: 1708550 (6.52 MB)\n",
            "Non-trainable params: 0 (0.00 Byte)\n",
            "_________________________________________________________________\n"
          ]
        }
      ]
    },
    {
      "cell_type": "code",
      "source": [
        "model = Sequential([\n",
        "    LSTM(100, input_shape=(sequence_length, n_features)),\n",
        "    Dropout(0.5),\n",
        "    Dense(n_classes, activation='softmax')\n",
        "])\n",
        "\n",
        "# Using a custom learning rate\n",
        "optimizer = Adam(learning_rate=0.001)\n",
        "model.compile(optimizer=optimizer, loss='sparse_categorical_crossentropy', metrics=['accuracy'])\n",
        "\n",
        "#model(sample_input)\n",
        "\n",
        "model.summary()\n"
      ],
      "metadata": {
        "colab": {
          "base_uri": "https://localhost:8080/"
        },
        "id": "fs3eohbi44lw",
        "outputId": "c8525b25-94d0-43af-be3a-124652871fe0"
      },
      "execution_count": 153,
      "outputs": [
        {
          "output_type": "stream",
          "name": "stdout",
          "text": [
            "Model: \"sequential_24\"\n",
            "_________________________________________________________________\n",
            " Layer (type)                Output Shape              Param #   \n",
            "=================================================================\n",
            " lstm_42 (LSTM)              (None, 100)               130400    \n",
            "                                                                 \n",
            " dropout_47 (Dropout)        (None, 100)               0         \n",
            "                                                                 \n",
            " dense_39 (Dense)            (None, 250)               25250     \n",
            "                                                                 \n",
            "=================================================================\n",
            "Total params: 155650 (608.01 KB)\n",
            "Trainable params: 155650 (608.01 KB)\n",
            "Non-trainable params: 0 (0.00 Byte)\n",
            "_________________________________________________________________\n"
          ]
        }
      ]
    },
    {
      "cell_type": "code",
      "source": [
        "#Data preprocessing\n",
        "from sklearn.preprocessing import StandardScaler\n",
        "\n",
        "# Assuming 'sequences' is your data\n",
        "scaler = StandardScaler()\n",
        "X_train_scaled = scaler.fit_transform(X_train.reshape(-1, X_train.shape[-1])).reshape(X_train.shape)\n",
        "X_val_scaled = scaler.transform(X_val.reshape(-1, X_val.shape[-1])).reshape(X_val.shape)\n"
      ],
      "metadata": {
        "id": "IQGYO3mznV1M"
      },
      "execution_count": 154,
      "outputs": []
    },
    {
      "cell_type": "code",
      "source": [
        "#training procedure\n",
        "from tensorflow.keras.callbacks import EarlyStopping\n",
        "\n",
        "early_stopping = EarlyStopping(monitor='val_loss', patience=3, restore_best_weights=True)\n",
        "model_checkpoint = ModelCheckpoint('best_model.h5', monitor='val_loss', save_best_only=True)\n",
        "\n",
        "\n",
        "history = model.fit(\n",
        "    X_train_scaled, y_train_encoded,\n",
        "    validation_data=(X_val_scaled, y_val_encoded),\n",
        "    epochs=50,  # Increased epochs\n",
        "    batch_size=16,  # Adjusted batch size\n",
        "    callbacks=[early_stopping]\n",
        ")\n"
      ],
      "metadata": {
        "colab": {
          "base_uri": "https://localhost:8080/"
        },
        "id": "GcL_ure8naMP",
        "outputId": "90cb4179-89e3-4ef1-b972-33419d5a6912"
      },
      "execution_count": 157,
      "outputs": [
        {
          "output_type": "stream",
          "name": "stdout",
          "text": [
            "Epoch 1/50\n",
            "100/100 [==============================] - 1s 6ms/step - loss: 0.2296 - accuracy: 0.9737 - val_loss: 6.5063 - val_accuracy: 0.0375\n",
            "Epoch 2/50\n",
            "100/100 [==============================] - 1s 6ms/step - loss: 0.1969 - accuracy: 0.9837 - val_loss: 6.5250 - val_accuracy: 0.0375\n",
            "Epoch 3/50\n",
            "100/100 [==============================] - 1s 5ms/step - loss: 0.2051 - accuracy: 0.9725 - val_loss: 6.6032 - val_accuracy: 0.0500\n",
            "Epoch 4/50\n",
            "100/100 [==============================] - 1s 5ms/step - loss: 0.2072 - accuracy: 0.9669 - val_loss: 6.5575 - val_accuracy: 0.0400\n"
          ]
        }
      ]
    },
    {
      "cell_type": "markdown",
      "source": [
        "**Based on the above, we can see that the training accuracy is increasing over epochs, the validation accuracy is decreasing over epochs, and the validation loss is increasing over epochs which can be interprated as the following:**\n",
        "\n",
        "**Increasing Training Accuracy:** The model's training accuracy is increasing over epochs, which is a positive sign. It suggests that the model is learning from the training data.\n",
        "\n",
        "**Validation Accuracy Not Keeping Pace:** However, the validation accuracy is much lower and doesn't increase at the same rate. This could be a sign of overfitting, where the model learns the training data too well, including its noise and outliers, but does not generalize well to new, unseen data.\n",
        "\n",
        "**Rising Validation Loss:** The increasing validation loss further supports the possibility of overfitting.\n",
        "\n",
        "To address these issues, we will consider adding the following steps:\n",
        "\n",
        "**Regularization**: Implement dropout layers or L2 regularization to prevent overfitting.\n",
        "Data Augmentation: If possible, augment your data to introduce more variability and help the model generalize better.\n",
        "\n",
        "**Early Stopping**: Implement early stopping to terminate training when the validation loss starts to increase, preventing overfitting.\n",
        "\n",
        "**Hyperparameter Tuning:** Optimize Model Architecture and Tune LSTM Units Adjust the number of units in LSTM layers. Sometimes fewer units can help the model generalize better.\n",
        "\n",
        "**Layer Adjustments:** Experiment with adding or removing layers to find a better architecture balance"
      ],
      "metadata": {
        "id": "e1AA-7_tyRAv"
      }
    },
    {
      "cell_type": "code",
      "source": [
        "# accounting for class imbalance\n",
        "\n",
        "from sklearn.utils.class_weight import compute_class_weight\n",
        "\n",
        "class_weights = compute_class_weight('balanced', classes=np.unique(y_train_encoded), y=y_train_encoded)\n",
        "class_weight_dict = dict(enumerate(class_weights))\n",
        "\n",
        "history = model.fit(\n",
        "    X_train_scaled, y_train_encoded,\n",
        "    validation_data=(X_val_scaled, y_val_encoded),\n",
        "    epochs=50,\n",
        "    batch_size=8,\n",
        "    class_weight=class_weight_dict,\n",
        "    callbacks=[early_stopping]\n",
        ")\n"
      ],
      "metadata": {
        "colab": {
          "base_uri": "https://localhost:8080/"
        },
        "id": "53cQdZkQrC7m",
        "outputId": "e037013d-3205-4394-92d9-fc58709a44a2"
      },
      "execution_count": 146,
      "outputs": [
        {
          "output_type": "stream",
          "name": "stdout",
          "text": [
            "Epoch 1/50\n",
            "200/200 [==============================] - 7s 18ms/step - loss: 3.9584 - accuracy: 0.1863 - val_loss: 5.3828 - val_accuracy: 0.0525\n",
            "Epoch 2/50\n",
            "200/200 [==============================] - 2s 11ms/step - loss: 3.3910 - accuracy: 0.2262 - val_loss: 5.5687 - val_accuracy: 0.0450\n",
            "Epoch 3/50\n",
            "200/200 [==============================] - 2s 11ms/step - loss: 2.6470 - accuracy: 0.3675 - val_loss: 5.7771 - val_accuracy: 0.0525\n",
            "Epoch 4/50\n",
            "200/200 [==============================] - 2s 12ms/step - loss: 1.9898 - accuracy: 0.4919 - val_loss: 6.5177 - val_accuracy: 0.0700\n"
          ]
        }
      ]
    },
    {
      "cell_type": "markdown",
      "source": [
        "more changes to see if it improves performance"
      ],
      "metadata": {
        "id": "sCDtAmdWsX_x"
      }
    },
    {
      "cell_type": "code",
      "source": [
        "from sklearn.preprocessing import MinMaxScaler\n",
        "\n",
        "# Assuming 'X_train' and 'X_val' are your training and validation sets\n",
        "scaler = MinMaxScaler()\n",
        "X_train_scaled = scaler.fit_transform(X_train.reshape(-1, X_train.shape[-1])).reshape(X_train.shape)\n",
        "X_val_scaled = scaler.transform(X_val.reshape(-1, X_val.shape[-1])).reshape(X_val.shape)\n"
      ],
      "metadata": {
        "id": "sVuq2xS5wcuv"
      },
      "execution_count": 107,
      "outputs": []
    },
    {
      "cell_type": "code",
      "source": [
        "from tensorflow.keras.layers import GRU\n",
        "\n",
        "model = Sequential([\n",
        "    Bidirectional(GRU(100, return_sequences=True, input_shape=(sequence_length, n_features))),\n",
        "    Dropout(0.3),\n",
        "    Bidirectional(GRU(100)),\n",
        "    Dropout(0.3),\n",
        "    Dense(100, activation='relu'),\n",
        "    Dense(n_classes, activation='softmax')\n",
        "])\n",
        "\n",
        "model.compile(optimizer=optimizer, loss='sparse_categorical_crossentropy', metrics=['accuracy'])\n",
        "sample_input = np.random.random((1, sequence_length, n_features))\n",
        "model(sample_input)\n",
        "\n",
        "model.summary()\n"
      ],
      "metadata": {
        "colab": {
          "base_uri": "https://localhost:8080/"
        },
        "id": "pfcXA6zqwwWO",
        "outputId": "6082c72a-1153-465f-d478-d56045423cee"
      },
      "execution_count": 111,
      "outputs": [
        {
          "output_type": "stream",
          "name": "stdout",
          "text": [
            "Model: \"sequential_13\"\n",
            "_________________________________________________________________\n",
            " Layer (type)                Output Shape              Param #   \n",
            "=================================================================\n",
            " bidirectional_12 (Bidirect  (1, 20, 200)              196200    \n",
            " ional)                                                          \n",
            "                                                                 \n",
            " dropout_26 (Dropout)        (1, 20, 200)              0         \n",
            "                                                                 \n",
            " bidirectional_13 (Bidirect  (1, 200)                  181200    \n",
            " ional)                                                          \n",
            "                                                                 \n",
            " dropout_27 (Dropout)        (1, 200)                  0         \n",
            "                                                                 \n",
            " dense_18 (Dense)            (1, 100)                  20100     \n",
            "                                                                 \n",
            " dense_19 (Dense)            (1, 250)                  25250     \n",
            "                                                                 \n",
            "=================================================================\n",
            "Total params: 422750 (1.61 MB)\n",
            "Trainable params: 422750 (1.61 MB)\n",
            "Non-trainable params: 0 (0.00 Byte)\n",
            "_________________________________________________________________\n"
          ]
        }
      ]
    },
    {
      "cell_type": "code",
      "source": [
        "from tensorflow.keras.callbacks import ModelCheckpoint\n",
        "\n",
        "checkpoint = ModelCheckpoint('best_model.h5', monitor='val_loss', save_best_only=True)\n",
        "\n",
        "# Add 'checkpoint' to the callbacks list in model.fit\n",
        "history = model.fit(\n",
        "    X_train_scaled, y_train_encoded,\n",
        "    validation_data=(X_val_scaled, y_val_encoded),\n",
        "    epochs=50,\n",
        "    batch_size=64,\n",
        "    callbacks=[early_stopping, checkpoint]  # Add 'checkpoint' here\n",
        ")\n"
      ],
      "metadata": {
        "colab": {
          "base_uri": "https://localhost:8080/"
        },
        "id": "ziWvAO9Gw1cD",
        "outputId": "95501251-befe-4750-eb40-51c11e7b25ab"
      },
      "execution_count": 112,
      "outputs": [
        {
          "output_type": "stream",
          "name": "stdout",
          "text": [
            "Epoch 1/50\n",
            "25/25 [==============================] - 8s 72ms/step - loss: 5.5545 - accuracy: 0.0031 - val_loss: 5.5231 - val_accuracy: 0.0050\n",
            "Epoch 2/50\n",
            "11/25 [============>.................] - ETA: 0s - loss: 5.5209 - accuracy: 0.0043"
          ]
        },
        {
          "output_type": "stream",
          "name": "stderr",
          "text": [
            "/usr/local/lib/python3.10/dist-packages/keras/src/engine/training.py:3079: UserWarning: You are saving your model as an HDF5 file via `model.save()`. This file format is considered legacy. We recommend using instead the native Keras format, e.g. `model.save('my_model.keras')`.\n",
            "  saving_api.save_model(\n"
          ]
        },
        {
          "output_type": "stream",
          "name": "stdout",
          "text": [
            "25/25 [==============================] - 0s 13ms/step - loss: 5.5398 - accuracy: 0.0031 - val_loss: 5.5309 - val_accuracy: 0.0000e+00\n",
            "Epoch 3/50\n",
            "25/25 [==============================] - 0s 13ms/step - loss: 5.5237 - accuracy: 0.0044 - val_loss: 5.5427 - val_accuracy: 0.0025\n",
            "Epoch 4/50\n",
            "25/25 [==============================] - 0s 14ms/step - loss: 5.5232 - accuracy: 0.0044 - val_loss: 5.5409 - val_accuracy: 0.0050\n",
            "Epoch 5/50\n",
            "25/25 [==============================] - 0s 13ms/step - loss: 5.5200 - accuracy: 0.0056 - val_loss: 5.5386 - val_accuracy: 0.0050\n",
            "Epoch 6/50\n",
            "25/25 [==============================] - 0s 14ms/step - loss: 5.5133 - accuracy: 0.0044 - val_loss: 5.5446 - val_accuracy: 0.0000e+00\n",
            "Epoch 7/50\n",
            "25/25 [==============================] - 0s 13ms/step - loss: 5.5175 - accuracy: 0.0044 - val_loss: 5.5502 - val_accuracy: 0.0025\n",
            "Epoch 8/50\n",
            "25/25 [==============================] - 0s 14ms/step - loss: 5.5062 - accuracy: 0.0056 - val_loss: 5.5680 - val_accuracy: 0.0000e+00\n",
            "Epoch 9/50\n",
            "25/25 [==============================] - 0s 14ms/step - loss: 5.5011 - accuracy: 0.0075 - val_loss: 5.5471 - val_accuracy: 0.0100\n",
            "Epoch 10/50\n",
            "25/25 [==============================] - 0s 14ms/step - loss: 5.5115 - accuracy: 0.0050 - val_loss: 5.5499 - val_accuracy: 0.0100\n",
            "Epoch 11/50\n",
            "25/25 [==============================] - 0s 14ms/step - loss: 5.5037 - accuracy: 0.0050 - val_loss: 5.5581 - val_accuracy: 0.0100\n"
          ]
        }
      ]
    },
    {
      "cell_type": "markdown",
      "source": [
        "At this point we can see that the mdoel is overfitting. If we had more time we would see if we could improve the model by applying more regularization, data augmentation, and hyperparameter tuning.\n",
        "\n",
        "At this point we're going to try another more complex archetecture to see if that improves performance. In the next phase we'll expore transformer models with the same dataset."
      ],
      "metadata": {
        "id": "wPpTGeJQ0nbK"
      }
    }
  ]
}