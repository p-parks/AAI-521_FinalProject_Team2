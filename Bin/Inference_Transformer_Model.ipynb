{
  "nbformat": 4,
  "nbformat_minor": 0,
  "metadata": {
    "colab": {
      "provenance": [],
      "machine_shape": "hm",
      "gpuType": "V100"
    },
    "kernelspec": {
      "name": "python3",
      "display_name": "Python 3"
    },
    "language_info": {
      "name": "python"
    },
    "accelerator": "GPU"
  },
  "cells": [
    {
      "cell_type": "code",
      "source": [
        "!pip install -q tensorflow-addons"
      ],
      "metadata": {
        "colab": {
          "base_uri": "https://localhost:8080/"
        },
        "id": "WhCHlJhISty8",
        "outputId": "90d64f16-817f-4b72-ea16-b3e068e70810"
      },
      "execution_count": 1,
      "outputs": [
        {
          "output_type": "stream",
          "name": "stdout",
          "text": [
            "\u001b[?25l     \u001b[90m━━━━━━━━━━━━━━━━━━━━━━━━━━━━━━━━━━━━━━━━\u001b[0m \u001b[32m0.0/611.8 kB\u001b[0m \u001b[31m?\u001b[0m eta \u001b[36m-:--:--\u001b[0m\r\u001b[2K     \u001b[91m━━━━━━━━━\u001b[0m\u001b[90m╺\u001b[0m\u001b[90m━━━━━━━━━━━━━━━━━━━━━━━━━━━━━━\u001b[0m \u001b[32m143.4/611.8 kB\u001b[0m \u001b[31m4.2 MB/s\u001b[0m eta \u001b[36m0:00:01\u001b[0m\r\u001b[2K     \u001b[91m━━━━━━━━━━━━━━━━━━━━━━━━━━━━━\u001b[0m\u001b[90m╺\u001b[0m\u001b[90m━━━━━━━━━━\u001b[0m \u001b[32m450.6/611.8 kB\u001b[0m \u001b[31m6.5 MB/s\u001b[0m eta \u001b[36m0:00:01\u001b[0m\r\u001b[2K     \u001b[90m━━━━━━━━━━━━━━━━━━━━━━━━━━━━━━━━━━━━━━━━\u001b[0m \u001b[32m611.8/611.8 kB\u001b[0m \u001b[31m6.4 MB/s\u001b[0m eta \u001b[36m0:00:00\u001b[0m\n",
            "\u001b[?25h"
          ]
        }
      ]
    },
    {
      "cell_type": "code",
      "source": [
        "!pip install -q opencv-python mediapipe"
      ],
      "metadata": {
        "colab": {
          "base_uri": "https://localhost:8080/"
        },
        "id": "_E5VGeC4Yt6J",
        "outputId": "95d64932-ad52-40d7-f0b1-d9f3886bf1b4"
      },
      "execution_count": 2,
      "outputs": [
        {
          "output_type": "stream",
          "name": "stdout",
          "text": [
            "\u001b[2K     \u001b[90m━━━━━━━━━━━━━━━━━━━━━━━━━━━━━━━━━━━━━━━━\u001b[0m \u001b[32m34.5/34.5 MB\u001b[0m \u001b[31m52.6 MB/s\u001b[0m eta \u001b[36m0:00:00\u001b[0m\n",
            "\u001b[?25h"
          ]
        }
      ]
    },
    {
      "cell_type": "code",
      "execution_count": 3,
      "metadata": {
        "colab": {
          "base_uri": "https://localhost:8080/"
        },
        "id": "andJbUTBShE0",
        "outputId": "76817a99-10cc-407d-afdc-abf3bd0938b5"
      },
      "outputs": [
        {
          "output_type": "stream",
          "name": "stderr",
          "text": [
            "/usr/local/lib/python3.10/dist-packages/tensorflow_addons/utils/tfa_eol_msg.py:23: UserWarning: \n",
            "\n",
            "TensorFlow Addons (TFA) has ended development and introduction of new features.\n",
            "TFA has entered a minimal maintenance and release mode until a planned end of life in May 2024.\n",
            "Please modify downstream libraries to take dependencies from other repositories in our TensorFlow community (e.g. Keras, Keras-CV, and Keras-NLP). \n",
            "\n",
            "For more information see: https://github.com/tensorflow/addons/issues/2807 \n",
            "\n",
            "  warnings.warn(\n"
          ]
        }
      ],
      "source": [
        "import numpy as np\n",
        "import pandas as pd\n",
        "import tensorflow as tf\n",
        "import tensorflow_addons as tfa\n",
        "import matplotlib.pyplot as plt\n",
        "import matplotlib as mpl\n",
        "import seaborn as sn\n",
        "\n",
        "from tqdm.notebook import tqdm\n",
        "from sklearn.model_selection import train_test_split, GroupShuffleSplit\n",
        "\n",
        "import glob\n",
        "import sys\n",
        "import os\n",
        "import math\n",
        "import gc\n",
        "import sys\n",
        "import sklearn\n",
        "import scipy\n",
        "\n",
        "import cv2\n",
        "import numpy as np\n",
        "import os\n",
        "from matplotlib import pyplot as plt\n",
        "import time\n",
        "import mediapipe as mp\n",
        "from IPython.display import display, Javascript, Image\n",
        "from google.colab.output import eval_js\n",
        "from base64 import b64decode, b64encode\n",
        "from google.colab.patches import cv2_imshow\n",
        "import PIL\n",
        "import io\n",
        "import html\n",
        "import time\n",
        "from tensorflow.keras.models import Sequential\n",
        "from tensorflow.keras.layers import LSTM, Dense\n",
        "from tensorflow.keras.callbacks import TensorBoard\n",
        "from keras.models import load_model\n",
        "from mediapipe.framework.formats import landmark_pb2\n",
        "mp_drawing = mp.solutions.drawing_utils\n",
        "mp_drawing_styles = mp.solutions.drawing_styles"
      ]
    },
    {
      "cell_type": "markdown",
      "source": [
        "# Model"
      ],
      "metadata": {
        "id": "i3f10SU6bT4z"
      }
    },
    {
      "cell_type": "code",
      "source": [
        "from google.colab import drive\n",
        "drive.mount('/content/drive')"
      ],
      "metadata": {
        "colab": {
          "base_uri": "https://localhost:8080/"
        },
        "id": "93-xHgDgS6FK",
        "outputId": "f4bfd62f-fa88-47b5-dde6-706cfd2a9fd8"
      },
      "execution_count": 4,
      "outputs": [
        {
          "output_type": "stream",
          "name": "stdout",
          "text": [
            "Mounted at /content/drive\n"
          ]
        }
      ]
    },
    {
      "cell_type": "code",
      "source": [
        "googledrive_dir = '/content/drive/MyDrive/Colab Notebooks/Data/asl-signs/'"
      ],
      "metadata": {
        "id": "boKcA5EUS7RV"
      },
      "execution_count": 5,
      "outputs": []
    },
    {
      "cell_type": "code",
      "source": [
        "X_val = np.load(f'{googledrive_dir}/X_val.npy')\n",
        "y_val = np.load(f'{googledrive_dir}/y_val.npy')\n",
        "NON_EMPTY_FRAME_IDXS_VAL = np.load(f'{googledrive_dir}/NON_EMPTY_FRAME_IDXS_VAL.npy')"
      ],
      "metadata": {
        "id": "fvthn2KUTCRk"
      },
      "execution_count": 6,
      "outputs": []
    },
    {
      "cell_type": "code",
      "source": [
        "# Epsilon value for layer normalisation\n",
        "LAYER_NORM_EPS = 1e-6\n",
        "\n",
        "# Dense layer units for landmarks\n",
        "LIPS_UNITS = 384\n",
        "HANDS_UNITS = 384\n",
        "POSE_UNITS = 384\n",
        "# final embedding and transformer embedding size\n",
        "UNITS = 512\n",
        "\n",
        "# Transformer\n",
        "NUM_BLOCKS = 2\n",
        "MLP_RATIO = 2\n",
        "\n",
        "# Dropout\n",
        "EMBEDDING_DROPOUT = 0.00\n",
        "MLP_DROPOUT_RATIO = 0.30\n",
        "CLASSIFIER_DROPOUT_RATIO = 0.10\n",
        "\n",
        "# Initiailizers\n",
        "INIT_HE_UNIFORM = tf.keras.initializers.he_uniform\n",
        "INIT_GLOROT_UNIFORM = tf.keras.initializers.glorot_uniform\n",
        "INIT_ZEROS = tf.keras.initializers.constant(0.0)\n",
        "# Activations\n",
        "GELU = tf.keras.activations.gelu\n",
        "\n",
        "print(f'UNITS: {UNITS}')"
      ],
      "metadata": {
        "id": "Lvce96WxcsTG",
        "colab": {
          "base_uri": "https://localhost:8080/"
        },
        "outputId": "92d97af8-e213-4421-c29c-7f2186314fff"
      },
      "execution_count": 7,
      "outputs": [
        {
          "output_type": "stream",
          "name": "stdout",
          "text": [
            "UNITS: 512\n"
          ]
        }
      ]
    },
    {
      "cell_type": "code",
      "source": [
        "# If True, processing data from scratch\n",
        "# If False, loads preprocessed data\n",
        "PREPROCESS_DATA = False\n",
        "TRAIN_MODEL = True\n",
        "# True: use 10% of participants as validation set\n",
        "# False: use all data for training -> gives better LB result\n",
        "USE_VAL = False\n",
        "\n",
        "N_ROWS = 543\n",
        "N_DIMS = 3\n",
        "DIM_NAMES = ['x', 'y', 'z']\n",
        "SEED = 42\n",
        "NUM_CLASSES = 250\n",
        "IS_INTERACTIVE = True\n",
        "VERBOSE = 1 if IS_INTERACTIVE else 2\n",
        "\n",
        "INPUT_SIZE = 64\n",
        "\n",
        "BATCH_ALL_SIGNS_N = 4\n",
        "BATCH_SIZE = 256\n",
        "N_EPOCHS = 100\n",
        "LR_MAX = 1e-3\n",
        "N_WARMUP_EPOCHS = 0\n",
        "WD_RATIO = 0.05\n",
        "MASK_VAL = 4237"
      ],
      "metadata": {
        "id": "xlRmsO2xcwr4"
      },
      "execution_count": 8,
      "outputs": []
    },
    {
      "cell_type": "code",
      "source": [
        "USE_TYPES = ['left_hand', 'pose', 'right_hand']\n",
        "START_IDX = 468\n",
        "LIPS_IDXS0 = np.array([\n",
        "        61, 185, 40, 39, 37, 0, 267, 269, 270, 409,\n",
        "        291, 146, 91, 181, 84, 17, 314, 405, 321, 375,\n",
        "        78, 191, 80, 81, 82, 13, 312, 311, 310, 415,\n",
        "        95, 88, 178, 87, 14, 317, 402, 318, 324, 308,\n",
        "    ])\n",
        "# Landmark indices in original data\n",
        "LEFT_HAND_IDXS0 = np.arange(468,489)\n",
        "RIGHT_HAND_IDXS0 = np.arange(522,543)\n",
        "LEFT_POSE_IDXS0 = np.array([502, 504, 506, 508, 510])\n",
        "RIGHT_POSE_IDXS0 = np.array([503, 505, 507, 509, 511])\n",
        "LANDMARK_IDXS_LEFT_DOMINANT0 = np.concatenate((LIPS_IDXS0, LEFT_HAND_IDXS0, LEFT_POSE_IDXS0))\n",
        "LANDMARK_IDXS_RIGHT_DOMINANT0 = np.concatenate((LIPS_IDXS0, RIGHT_HAND_IDXS0, RIGHT_POSE_IDXS0))\n",
        "HAND_IDXS0 = np.concatenate((LEFT_HAND_IDXS0, RIGHT_HAND_IDXS0), axis=0)\n",
        "N_COLS = LANDMARK_IDXS_LEFT_DOMINANT0.size\n",
        "# Landmark indices in processed data\n",
        "LIPS_IDXS = np.argwhere(np.isin(LANDMARK_IDXS_LEFT_DOMINANT0, LIPS_IDXS0)).squeeze()\n",
        "LEFT_HAND_IDXS = np.argwhere(np.isin(LANDMARK_IDXS_LEFT_DOMINANT0, LEFT_HAND_IDXS0)).squeeze()\n",
        "RIGHT_HAND_IDXS = np.argwhere(np.isin(LANDMARK_IDXS_LEFT_DOMINANT0, RIGHT_HAND_IDXS0)).squeeze()\n",
        "HAND_IDXS = np.argwhere(np.isin(LANDMARK_IDXS_LEFT_DOMINANT0, HAND_IDXS0)).squeeze()\n",
        "POSE_IDXS = np.argwhere(np.isin(LANDMARK_IDXS_LEFT_DOMINANT0, LEFT_POSE_IDXS0)).squeeze()\n",
        "\n",
        "print(f'# HAND_IDXS: {len(HAND_IDXS)}, N_COLS: {N_COLS}')"
      ],
      "metadata": {
        "id": "eyT5QX9zc1aZ",
        "colab": {
          "base_uri": "https://localhost:8080/"
        },
        "outputId": "5ee7c592-e85e-4365-c4a8-33be329c57c2"
      },
      "execution_count": 9,
      "outputs": [
        {
          "output_type": "stream",
          "name": "stdout",
          "text": [
            "# HAND_IDXS: 21, N_COLS: 66\n"
          ]
        }
      ]
    },
    {
      "cell_type": "code",
      "source": [
        "LIPS_START = 0\n",
        "LEFT_HAND_START = LIPS_IDXS.size\n",
        "RIGHT_HAND_START = LEFT_HAND_START + LEFT_HAND_IDXS.size\n",
        "POSE_START = RIGHT_HAND_START + RIGHT_HAND_IDXS.size\n",
        "\n",
        "print(f'LIPS_START: {LIPS_START}, LEFT_HAND_START: {LEFT_HAND_START}, RIGHT_HAND_START: {RIGHT_HAND_START}, POSE_START: {POSE_START}')"
      ],
      "metadata": {
        "id": "swCL_aXFc4xw",
        "colab": {
          "base_uri": "https://localhost:8080/"
        },
        "outputId": "d0df24e9-9043-4e46-e724-9b1d1dc39db1"
      },
      "execution_count": 10,
      "outputs": [
        {
          "output_type": "stream",
          "name": "stdout",
          "text": [
            "LIPS_START: 0, LEFT_HAND_START: 40, RIGHT_HAND_START: 61, POSE_START: 61\n"
          ]
        }
      ]
    },
    {
      "cell_type": "code",
      "source": [
        "LIPS_MEAN = np.load(f'{googledrive_dir}/LIPS_MEAN.npy')\n",
        "LIPS_STD = np.load(f'{googledrive_dir}/LIPS_STD.npy')\n",
        "LEFT_HANDS_MEAN = np.load(f'{googledrive_dir}/LEFT_HANDS_MEAN.npy')\n",
        "LEFT_HANDS_STD = np.load(f'{googledrive_dir}/LEFT_HANDS_STD.npy')\n",
        "POSE_MEAN = np.load(f'{googledrive_dir}/POSE_MEAN.npy')\n",
        "POSE_STD = np.load(f'{googledrive_dir}/POSE_STD.npy')"
      ],
      "metadata": {
        "id": "9sWzUemgc8GC"
      },
      "execution_count": 11,
      "outputs": []
    },
    {
      "cell_type": "code",
      "source": [
        "class Embedding(tf.keras.Model):\n",
        "    def __init__(self):\n",
        "        super(Embedding, self).__init__()\n",
        "\n",
        "    def get_diffs(self, l):\n",
        "        S = l.shape[2]\n",
        "        other = tf.expand_dims(l, 3)\n",
        "        other = tf.repeat(other, S, axis=3)\n",
        "        other = tf.transpose(other, [0,1,3,2])\n",
        "        diffs = tf.expand_dims(l, 3) - other\n",
        "        diffs = tf.reshape(diffs, [-1, INPUT_SIZE, S*S])\n",
        "        return diffs\n",
        "\n",
        "    def build(self, input_shape):\n",
        "        # Positional Embedding, initialized with zeros\n",
        "        self.positional_embedding = tf.keras.layers.Embedding(INPUT_SIZE+1, UNITS, embeddings_initializer=INIT_ZEROS)\n",
        "        # Embedding layer for Landmarks\n",
        "        self.lips_embedding = LandmarkEmbedding(LIPS_UNITS, 'lips')\n",
        "        self.left_hand_embedding = LandmarkEmbedding(HANDS_UNITS, 'left_hand')\n",
        "        self.pose_embedding = LandmarkEmbedding(POSE_UNITS, 'pose')\n",
        "        # Landmark Weights\n",
        "        self.landmark_weights = tf.Variable(tf.zeros([3], dtype=tf.float32), name='landmark_weights')\n",
        "        # Fully Connected Layers for combined landmarks\n",
        "        self.fc = tf.keras.Sequential([\n",
        "            tf.keras.layers.Dense(UNITS, name='fully_connected_1', use_bias=False, kernel_initializer=INIT_GLOROT_UNIFORM),\n",
        "            tf.keras.layers.Activation(GELU),\n",
        "            tf.keras.layers.Dense(UNITS, name='fully_connected_2', use_bias=False, kernel_initializer=INIT_HE_UNIFORM),\n",
        "        ], name='fc')\n",
        "\n",
        "\n",
        "    def call(self, lips0, left_hand0, pose0, non_empty_frame_idxs, training=False):\n",
        "        # Lips\n",
        "        lips_embedding = self.lips_embedding(lips0)\n",
        "        # Left Hand\n",
        "        left_hand_embedding = self.left_hand_embedding(left_hand0)\n",
        "        # Pose\n",
        "        pose_embedding = self.pose_embedding(pose0)\n",
        "        # Merge Embeddings of all landmarks with mean pooling\n",
        "        x = tf.stack((\n",
        "            lips_embedding, left_hand_embedding, pose_embedding,\n",
        "        ), axis=3)\n",
        "        x = x * tf.nn.softmax(self.landmark_weights)\n",
        "        x = tf.reduce_sum(x, axis=3)\n",
        "        # Fully Connected Layers\n",
        "        x = self.fc(x)\n",
        "        # Add Positional Embedding\n",
        "        max_frame_idxs = tf.clip_by_value(\n",
        "                tf.reduce_max(non_empty_frame_idxs, axis=1, keepdims=True),\n",
        "                1,\n",
        "                np.PINF,\n",
        "            )\n",
        "        normalised_non_empty_frame_idxs = tf.where(\n",
        "            tf.math.equal(non_empty_frame_idxs, -1.0),\n",
        "            INPUT_SIZE,\n",
        "            tf.cast(\n",
        "                non_empty_frame_idxs / max_frame_idxs * INPUT_SIZE,\n",
        "                tf.int32,\n",
        "            ),\n",
        "        )\n",
        "        x = x + self.positional_embedding(normalised_non_empty_frame_idxs)\n",
        "\n",
        "        return x"
      ],
      "metadata": {
        "id": "VOOx6N91ZFIt"
      },
      "execution_count": 12,
      "outputs": []
    },
    {
      "cell_type": "code",
      "source": [
        "class LandmarkEmbedding(tf.keras.Model):\n",
        "    def __init__(self, units, name):\n",
        "        super(LandmarkEmbedding, self).__init__(name=f'{name}_embedding')\n",
        "        self.units = units\n",
        "\n",
        "    def build(self, input_shape):\n",
        "        # Embedding for missing landmark in frame, initizlied with zeros\n",
        "        self.empty_embedding = self.add_weight(\n",
        "            name=f'{self.name}_empty_embedding',\n",
        "            shape=[self.units],\n",
        "            initializer=INIT_ZEROS,\n",
        "        )\n",
        "        # Embedding\n",
        "        self.dense = tf.keras.Sequential([\n",
        "            tf.keras.layers.Dense(self.units, name=f'{self.name}_dense_1', use_bias=False, kernel_initializer=INIT_GLOROT_UNIFORM),\n",
        "            tf.keras.layers.Activation(GELU),\n",
        "            tf.keras.layers.Dense(self.units, name=f'{self.name}_dense_2', use_bias=False, kernel_initializer=INIT_HE_UNIFORM),\n",
        "        ], name=f'{self.name}_dense')\n",
        "\n",
        "    def call(self, x):\n",
        "        return tf.where(\n",
        "                # Checks whether landmark is missing in frame\n",
        "                tf.reduce_sum(x, axis=2, keepdims=True) == 0,\n",
        "                # If so, the empty embedding is used\n",
        "                self.empty_embedding,\n",
        "                # Otherwise the landmark data is embedded\n",
        "                self.dense(x),\n",
        "            )"
      ],
      "metadata": {
        "id": "ZNSPg1C0Y_Jl"
      },
      "execution_count": 13,
      "outputs": []
    },
    {
      "cell_type": "code",
      "source": [
        "# Full Transformer\n",
        "class Transformer(tf.keras.Model):\n",
        "    def __init__(self, num_blocks):\n",
        "        super(Transformer, self).__init__(name='transformer')\n",
        "        self.num_blocks = num_blocks\n",
        "\n",
        "    def build(self, input_shape):\n",
        "        self.ln_1s = []\n",
        "        self.mhas = []\n",
        "        self.ln_2s = []\n",
        "        self.mlps = []\n",
        "        # Make Transformer Blocks\n",
        "        for i in range(self.num_blocks):\n",
        "            # Multi Head Attention\n",
        "            self.mhas.append(MultiHeadAttention(UNITS, 8))\n",
        "            # Multi Layer Perception\n",
        "            self.mlps.append(tf.keras.Sequential([\n",
        "                tf.keras.layers.Dense(UNITS * MLP_RATIO, activation=GELU, kernel_initializer=INIT_GLOROT_UNIFORM),\n",
        "                tf.keras.layers.Dropout(MLP_DROPOUT_RATIO),\n",
        "                tf.keras.layers.Dense(UNITS, kernel_initializer=INIT_HE_UNIFORM),\n",
        "            ]))\n",
        "\n",
        "    def call(self, x, attention_mask):\n",
        "        # Iterate input over transformer blocks\n",
        "        for mha, mlp in zip(self.mhas, self.mlps):\n",
        "            x = x + mha(x, attention_mask)\n",
        "            x = x + mlp(x)\n",
        "\n",
        "        return x"
      ],
      "metadata": {
        "id": "gyKL4FwpZNVq"
      },
      "execution_count": 14,
      "outputs": []
    },
    {
      "cell_type": "code",
      "source": [
        "# based on: https://stackoverflow.com/questions/67342988/verifying-the-implementation-of-multihead-attention-in-transformer\n",
        "# replaced softmax with softmax layer to support masked softmax\n",
        "def scaled_dot_product(q,k,v, softmax, attention_mask):\n",
        "    #calculates Q . K(transpose)\n",
        "    qkt = tf.matmul(q,k,transpose_b=True)\n",
        "    #caculates scaling factor\n",
        "    dk = tf.math.sqrt(tf.cast(q.shape[-1],dtype=tf.float32))\n",
        "    scaled_qkt = qkt/dk\n",
        "    softmax = softmax(scaled_qkt, mask=attention_mask)\n",
        "\n",
        "    z = tf.matmul(softmax,v)\n",
        "    #shape: (m,Tx,depth), same shape as q,k,v\n",
        "    return z\n",
        "\n",
        "class MultiHeadAttention(tf.keras.layers.Layer):\n",
        "    def __init__(self,d_model,num_of_heads):\n",
        "        super(MultiHeadAttention,self).__init__()\n",
        "        self.d_model = d_model\n",
        "        self.num_of_heads = num_of_heads\n",
        "        self.depth = d_model//num_of_heads\n",
        "        self.wq = [tf.keras.layers.Dense(self.depth) for i in range(num_of_heads)]\n",
        "        self.wk = [tf.keras.layers.Dense(self.depth) for i in range(num_of_heads)]\n",
        "        self.wv = [tf.keras.layers.Dense(self.depth) for i in range(num_of_heads)]\n",
        "        self.wo = tf.keras.layers.Dense(d_model)\n",
        "        self.softmax = tf.keras.layers.Softmax()\n",
        "\n",
        "    def call(self,x, attention_mask):\n",
        "\n",
        "        multi_attn = []\n",
        "        for i in range(self.num_of_heads):\n",
        "            Q = self.wq[i](x)\n",
        "            K = self.wk[i](x)\n",
        "            V = self.wv[i](x)\n",
        "            multi_attn.append(scaled_dot_product(Q,K,V, self.softmax, attention_mask))\n",
        "\n",
        "        multi_head = tf.concat(multi_attn,axis=-1)\n",
        "        multi_head_attention = self.wo(multi_head)\n",
        "        return multi_head_attention"
      ],
      "metadata": {
        "id": "HX51TvAkZRXX"
      },
      "execution_count": 15,
      "outputs": []
    },
    {
      "cell_type": "code",
      "source": [
        "# source:: https://stackoverflow.com/questions/60689185/label-smoothing-for-sparse-categorical-crossentropy\n",
        "def scce_with_ls(y_true, y_pred):\n",
        "    # One Hot Encode Sparsely Encoded Target Sign\n",
        "    y_true = tf.cast(y_true, tf.int32)\n",
        "    y_true = tf.one_hot(y_true, NUM_CLASSES, axis=1)\n",
        "    y_true = tf.squeeze(y_true, axis=2)\n",
        "    # Categorical Crossentropy with native label smoothing support\n",
        "    return tf.keras.losses.categorical_crossentropy(y_true, y_pred, label_smoothing=0.25)"
      ],
      "metadata": {
        "id": "MtacfLR_Y-Qg"
      },
      "execution_count": 16,
      "outputs": []
    },
    {
      "cell_type": "code",
      "source": [
        "def get_model():\n",
        "    # Inputs\n",
        "    frames = tf.keras.layers.Input([INPUT_SIZE, N_COLS, N_DIMS], dtype=tf.float32, name='frames')\n",
        "    non_empty_frame_idxs = tf.keras.layers.Input([INPUT_SIZE], dtype=tf.float32, name='non_empty_frame_idxs')\n",
        "    # Padding Mask\n",
        "    mask0 = tf.cast(tf.math.not_equal(non_empty_frame_idxs, -1), tf.float32)\n",
        "    mask0 = tf.expand_dims(mask0, axis=2)\n",
        "    # Random Frame Masking\n",
        "    mask = tf.where(\n",
        "        (tf.random.uniform(tf.shape(mask0)) > 0.25) & tf.math.not_equal(mask0, 0.0),\n",
        "        1.0,\n",
        "        0.0,\n",
        "    )\n",
        "    # Correct Samples Which are all masked now...\n",
        "    mask = tf.where(\n",
        "        tf.math.equal(tf.reduce_sum(mask, axis=[1,2], keepdims=True), 0.0),\n",
        "        mask0,\n",
        "        mask,\n",
        "    )\n",
        "\n",
        "\n",
        "    \"\"\"\n",
        "        left_hand: 468:489\n",
        "        pose: 489:522\n",
        "        right_hand: 522:543\n",
        "    \"\"\"\n",
        "    x = frames\n",
        "    x = tf.slice(x, [0,0,0,0], [-1,INPUT_SIZE, N_COLS, 2])\n",
        "    # LIPS\n",
        "    lips = tf.slice(x, [0,0,LIPS_START,0], [-1,INPUT_SIZE, 40, 2])\n",
        "    lips = tf.where(\n",
        "            tf.math.equal(lips, 0.0),\n",
        "            0.0,\n",
        "            (lips - LIPS_MEAN) / LIPS_STD,\n",
        "        )\n",
        "    # LEFT HAND\n",
        "    left_hand = tf.slice(x, [0,0,40,0], [-1,INPUT_SIZE, 21, 2])\n",
        "    left_hand = tf.where(\n",
        "            tf.math.equal(left_hand, 0.0),\n",
        "            0.0,\n",
        "            (left_hand - LEFT_HANDS_MEAN) / LEFT_HANDS_STD,\n",
        "        )\n",
        "    # POSE\n",
        "    pose = tf.slice(x, [0,0,61,0], [-1,INPUT_SIZE, 5, 2])\n",
        "    pose = tf.where(\n",
        "            tf.math.equal(pose, 0.0),\n",
        "            0.0,\n",
        "            (pose - POSE_MEAN) / POSE_STD,\n",
        "        )\n",
        "\n",
        "    # Flatten\n",
        "    lips = tf.reshape(lips, [-1, INPUT_SIZE, 40*2])\n",
        "    left_hand = tf.reshape(left_hand, [-1, INPUT_SIZE, 21*2])\n",
        "    pose = tf.reshape(pose, [-1, INPUT_SIZE, 5*2])\n",
        "\n",
        "    # Embedding\n",
        "    x = Embedding()(lips, left_hand, pose, non_empty_frame_idxs)\n",
        "\n",
        "    # Encoder Transformer Blocks\n",
        "    x = Transformer(NUM_BLOCKS)(x, mask)\n",
        "\n",
        "    # Pooling\n",
        "    x = tf.reduce_sum(x * mask, axis=1) / tf.reduce_sum(mask, axis=1)\n",
        "    # Classifier Dropout\n",
        "    x = tf.keras.layers.Dropout(CLASSIFIER_DROPOUT_RATIO)(x)\n",
        "    # Classification Layer\n",
        "    x = tf.keras.layers.Dense(NUM_CLASSES, activation=tf.keras.activations.softmax, kernel_initializer=INIT_GLOROT_UNIFORM)(x)\n",
        "\n",
        "    outputs = x\n",
        "\n",
        "    # Create Tensorflow Model\n",
        "    model = tf.keras.models.Model(inputs=[frames, non_empty_frame_idxs], outputs=outputs)\n",
        "\n",
        "    # Sparse Categorical Cross Entropy With Label Smoothing\n",
        "    loss = scce_with_ls\n",
        "\n",
        "    # Adam Optimizer with weight decay\n",
        "    optimizer = tfa.optimizers.AdamW(learning_rate=1e-3, weight_decay=1e-5, clipnorm=1.0)\n",
        "\n",
        "    # TopK Metrics\n",
        "    metrics = [\n",
        "        tf.keras.metrics.SparseCategoricalAccuracy(name='acc'),\n",
        "        tf.keras.metrics.SparseTopKCategoricalAccuracy(k=5, name='top_5_acc'),\n",
        "        tf.keras.metrics.SparseTopKCategoricalAccuracy(k=10, name='top_10_acc'),\n",
        "    ]\n",
        "\n",
        "    model.compile(loss=loss, optimizer=optimizer, metrics=metrics)\n",
        "\n",
        "    return model"
      ],
      "metadata": {
        "id": "dqe3w4YWZ1Md"
      },
      "execution_count": 17,
      "outputs": []
    },
    {
      "cell_type": "code",
      "source": [
        "tf.keras.backend.clear_session()\n",
        "\n",
        "model = get_model()"
      ],
      "metadata": {
        "id": "KjvdhPI2Z6s9"
      },
      "execution_count": 18,
      "outputs": []
    },
    {
      "cell_type": "code",
      "source": [
        "model.load_weights('/content/drive/MyDrive/Colab Notebooks/Data/asl-signs/model.h5')"
      ],
      "metadata": {
        "id": "YLkCxF_tXczQ"
      },
      "execution_count": 19,
      "outputs": []
    },
    {
      "cell_type": "code",
      "source": [
        "X_val.shape"
      ],
      "metadata": {
        "colab": {
          "base_uri": "https://localhost:8080/"
        },
        "id": "AV_b0kdcfmDT",
        "outputId": "c178bb69-ea9d-426f-ccdd-e51600b5f5be"
      },
      "execution_count": 20,
      "outputs": [
        {
          "output_type": "execute_result",
          "data": {
            "text/plain": [
              "(14248, 64, 66, 3)"
            ]
          },
          "metadata": {},
          "execution_count": 20
        }
      ]
    },
    {
      "cell_type": "code",
      "source": [
        "NON_EMPTY_FRAME_IDXS_VAL.shape"
      ],
      "metadata": {
        "colab": {
          "base_uri": "https://localhost:8080/"
        },
        "id": "I9tJvyNcgBgU",
        "outputId": "0b4049d8-6273-44ab-9271-ffe338c6ef95"
      },
      "execution_count": 21,
      "outputs": [
        {
          "output_type": "execute_result",
          "data": {
            "text/plain": [
              "(14248, 64)"
            ]
          },
          "metadata": {},
          "execution_count": 21
        }
      ]
    },
    {
      "cell_type": "code",
      "source": [
        "y_val_pred = model.predict({ 'frames': X_val, 'non_empty_frame_idxs': NON_EMPTY_FRAME_IDXS_VAL }, verbose=2).argmax(axis=1)"
      ],
      "metadata": {
        "id": "eh6IWJ2nTjsf",
        "colab": {
          "base_uri": "https://localhost:8080/"
        },
        "outputId": "73f1fb8f-6904-48eb-a403-56ca50f9c0b8"
      },
      "execution_count": 22,
      "outputs": [
        {
          "output_type": "stream",
          "name": "stdout",
          "text": [
            "446/446 - 11s - 11s/epoch - 26ms/step\n"
          ]
        }
      ]
    },
    {
      "cell_type": "code",
      "source": [
        "import json\n",
        "\n",
        "signmap_sub_dir = 'sign_to_prediction_index_map.json'\n",
        "signmap_full_file_path = os.path.join(googledrive_dir, signmap_sub_dir)\n",
        "# Load the sign to index mapping\n",
        "with open(signmap_full_file_path, 'r') as file:\n",
        "    sign_to_index = json.load(file)"
      ],
      "metadata": {
        "id": "inSCwUlWTmF8"
      },
      "execution_count": 23,
      "outputs": []
    },
    {
      "cell_type": "code",
      "source": [
        "inverted_mapping = {v: k for k, v in sign_to_index.items()}"
      ],
      "metadata": {
        "id": "1OESxnP-TpNJ"
      },
      "execution_count": 24,
      "outputs": []
    },
    {
      "cell_type": "code",
      "source": [
        "# Convert mapping to list\n",
        "class_names = [inverted_mapping[i] for i in sorted(inverted_mapping)]"
      ],
      "metadata": {
        "id": "f3WhhhgCTrWm"
      },
      "execution_count": 25,
      "outputs": []
    },
    {
      "cell_type": "code",
      "source": [
        "from sklearn.metrics import classification_report\n",
        "\n",
        "print(classification_report(y_val, y_val_pred, target_names=class_names))"
      ],
      "metadata": {
        "id": "2DKmlYzqTtbu",
        "colab": {
          "base_uri": "https://localhost:8080/"
        },
        "outputId": "2ff29e66-f618-498c-d32d-c9a53de823ea"
      },
      "execution_count": 26,
      "outputs": [
        {
          "output_type": "stream",
          "name": "stdout",
          "text": [
            "              precision    recall  f1-score   support\n",
            "\n",
            "          TV       1.00      1.00      1.00        60\n",
            "       after       0.98      1.00      0.99        59\n",
            "    airplane       1.00      1.00      1.00        57\n",
            "         all       0.98      1.00      0.99        59\n",
            "   alligator       1.00      1.00      1.00        61\n",
            "      animal       0.98      0.98      0.98        48\n",
            "     another       1.00      0.98      0.99        51\n",
            "         any       1.00      1.00      1.00        58\n",
            "       apple       1.00      1.00      1.00        53\n",
            "         arm       1.00      1.00      1.00        54\n",
            "        aunt       1.00      0.96      0.98        55\n",
            "       awake       0.89      1.00      0.94        57\n",
            "    backyard       1.00      1.00      1.00        59\n",
            "         bad       1.00      0.98      0.99        60\n",
            "     balloon       1.00      1.00      1.00        63\n",
            "        bath       0.98      1.00      0.99        54\n",
            "     because       1.00      1.00      1.00        59\n",
            "         bed       1.00      1.00      1.00        55\n",
            "     bedroom       1.00      0.98      0.99        61\n",
            "         bee       1.00      1.00      1.00        60\n",
            "      before       1.00      0.98      0.99        54\n",
            "      beside       1.00      1.00      1.00        47\n",
            "      better       0.98      1.00      0.99        57\n",
            "        bird       1.00      1.00      1.00        58\n",
            "       black       0.98      1.00      0.99        58\n",
            "        blow       1.00      1.00      1.00        59\n",
            "        blue       1.00      0.96      0.98        55\n",
            "        boat       0.96      1.00      0.98        53\n",
            "        book       1.00      1.00      1.00        56\n",
            "         boy       1.00      1.00      1.00        54\n",
            "     brother       1.00      1.00      1.00        60\n",
            "       brown       1.00      1.00      1.00        58\n",
            "         bug       1.00      1.00      1.00        62\n",
            "         bye       0.98      1.00      0.99        60\n",
            " callonphone       1.00      1.00      1.00        57\n",
            "         can       0.98      1.00      0.99        54\n",
            "         car       0.98      0.98      0.98        54\n",
            "      carrot       1.00      1.00      1.00        55\n",
            "         cat       1.00      0.99      0.99        67\n",
            "      cereal       1.00      1.00      1.00        56\n",
            "       chair       0.98      0.98      0.98        52\n",
            "       cheek       1.00      1.00      1.00        61\n",
            "       child       1.00      0.98      0.99        52\n",
            "        chin       1.00      1.00      1.00        58\n",
            "   chocolate       1.00      1.00      1.00        58\n",
            "       clean       1.00      1.00      1.00        53\n",
            "       close       1.00      1.00      1.00        65\n",
            "      closet       1.00      1.00      1.00        61\n",
            "       cloud       1.00      1.00      1.00        61\n",
            "       clown       1.00      1.00      1.00        61\n",
            "         cow       0.98      1.00      0.99        60\n",
            "      cowboy       1.00      0.98      0.99        58\n",
            "         cry       1.00      1.00      1.00        57\n",
            "         cut       1.00      1.00      1.00        57\n",
            "        cute       1.00      1.00      1.00        59\n",
            "         dad       1.00      1.00      1.00        57\n",
            "       dance       1.00      1.00      1.00        46\n",
            "       dirty       0.98      1.00      0.99        53\n",
            "         dog       0.98      1.00      0.99        56\n",
            "        doll       1.00      1.00      1.00        61\n",
            "      donkey       1.00      1.00      1.00        59\n",
            "        down       0.98      1.00      0.99        43\n",
            "      drawer       1.00      1.00      1.00        58\n",
            "       drink       1.00      1.00      1.00        57\n",
            "        drop       1.00      1.00      1.00        49\n",
            "         dry       1.00      1.00      1.00        59\n",
            "       dryer       1.00      1.00      1.00        60\n",
            "        duck       0.97      1.00      0.98        57\n",
            "         ear       1.00      0.98      0.99        60\n",
            "    elephant       1.00      1.00      1.00        59\n",
            "       empty       1.00      0.98      0.99        58\n",
            "       every       1.00      1.00      1.00        50\n",
            "         eye       1.00      1.00      1.00        54\n",
            "        face       1.00      0.96      0.98        53\n",
            "        fall       1.00      1.00      1.00        58\n",
            "        farm       1.00      1.00      1.00        58\n",
            "        fast       1.00      1.00      1.00        51\n",
            "        feet       1.00      0.98      0.99        60\n",
            "        find       1.00      1.00      1.00        59\n",
            "        fine       1.00      0.98      0.99        53\n",
            "      finger       0.98      1.00      0.99        60\n",
            "      finish       0.98      1.00      0.99        60\n",
            "     fireman       1.00      1.00      1.00        60\n",
            "       first       1.00      1.00      1.00        60\n",
            "        fish       0.98      1.00      0.99        56\n",
            "        flag       1.00      1.00      1.00        58\n",
            "      flower       1.00      1.00      1.00        57\n",
            "        food       1.00      1.00      1.00        57\n",
            "         for       1.00      1.00      1.00        57\n",
            " frenchfries       0.98      1.00      0.99        60\n",
            "        frog       1.00      1.00      1.00        54\n",
            "     garbage       1.00      0.98      0.99        50\n",
            "        gift       0.98      1.00      0.99        58\n",
            "     giraffe       1.00      1.00      1.00        54\n",
            "        girl       1.00      1.00      1.00        52\n",
            "        give       1.00      0.98      0.99        53\n",
            " glasswindow       1.00      0.98      0.99        54\n",
            "          go       1.00      1.00      1.00        53\n",
            "       goose       1.00      0.98      0.99        62\n",
            "     grandma       0.98      1.00      0.99        57\n",
            "     grandpa       1.00      1.00      1.00        60\n",
            "       grass       1.00      1.00      1.00        60\n",
            "       green       1.00      1.00      1.00        55\n",
            "         gum       1.00      1.00      1.00        59\n",
            "        hair       1.00      1.00      1.00        58\n",
            "       happy       1.00      0.98      0.99        60\n",
            "         hat       1.00      1.00      1.00        43\n",
            "        hate       0.92      1.00      0.96        58\n",
            "        have       1.00      1.00      1.00        49\n",
            "      haveto       0.98      1.00      0.99        55\n",
            "        head       1.00      1.00      1.00        58\n",
            "        hear       0.92      1.00      0.96        68\n",
            "  helicopter       1.00      1.00      1.00        57\n",
            "       hello       0.98      1.00      0.99        57\n",
            "         hen       0.98      1.00      0.99        61\n",
            "     hesheit       1.00      1.00      1.00        60\n",
            "        hide       1.00      1.00      1.00        51\n",
            "        high       1.00      1.00      1.00        54\n",
            "        home       1.00      1.00      1.00        59\n",
            "       horse       1.00      1.00      1.00        60\n",
            "         hot       1.00      1.00      1.00        60\n",
            "      hungry       1.00      0.98      0.99        59\n",
            "    icecream       1.00      1.00      1.00        60\n",
            "          if       1.00      1.00      1.00        55\n",
            "        into       1.00      1.00      1.00        54\n",
            "      jacket       0.98      0.98      0.98        58\n",
            "       jeans       1.00      0.98      0.99        56\n",
            "        jump       1.00      1.00      1.00        59\n",
            "        kiss       1.00      1.00      1.00        59\n",
            "       kitty       0.97      1.00      0.98        65\n",
            "        lamp       0.98      0.98      0.98        61\n",
            "       later       1.00      1.00      1.00        58\n",
            "        like       0.98      1.00      0.99        64\n",
            "        lion       1.00      1.00      1.00        55\n",
            "        lips       1.00      1.00      1.00        60\n",
            "      listen       1.00      0.91      0.95        57\n",
            "        look       0.98      1.00      0.99        62\n",
            "        loud       1.00      1.00      1.00        61\n",
            "         mad       1.00      1.00      1.00        58\n",
            "        make       1.00      1.00      1.00        59\n",
            "         man       1.00      1.00      1.00        59\n",
            "        many       1.00      1.00      1.00        50\n",
            "        milk       0.98      0.98      0.98        58\n",
            "      minemy       0.98      1.00      0.99        60\n",
            "      mitten       1.00      0.98      0.99        62\n",
            "         mom       1.00      0.98      0.99        58\n",
            "        moon       1.00      1.00      1.00        59\n",
            "     morning       1.00      1.00      1.00        55\n",
            "       mouse       1.00      1.00      1.00        60\n",
            "       mouth       1.00      1.00      1.00        60\n",
            "         nap       1.00      1.00      1.00        65\n",
            "      napkin       1.00      1.00      1.00        60\n",
            "       night       1.00      1.00      1.00        45\n",
            "          no       1.00      1.00      1.00        61\n",
            "       noisy       1.00      1.00      1.00        56\n",
            "        nose       1.00      1.00      1.00        58\n",
            "         not       1.00      1.00      1.00        61\n",
            "         now       1.00      1.00      1.00        52\n",
            "        nuts       1.00      1.00      1.00        63\n",
            "         old       1.00      1.00      1.00        54\n",
            "          on       1.00      1.00      1.00        59\n",
            "        open       1.00      0.98      0.99        49\n",
            "      orange       1.00      1.00      1.00        58\n",
            "     outside       1.00      1.00      1.00        61\n",
            "        owie       1.00      1.00      1.00        57\n",
            "         owl       1.00      1.00      1.00        57\n",
            "     pajamas       1.00      1.00      1.00        54\n",
            "         pen       1.00      0.95      0.98        64\n",
            "      pencil       0.97      1.00      0.98        60\n",
            "       penny       1.00      1.00      1.00        54\n",
            "      person       0.97      1.00      0.99        35\n",
            "         pig       1.00      0.98      0.99        53\n",
            "       pizza       1.00      1.00      1.00        66\n",
            "      please       0.98      1.00      0.99        60\n",
            "      police       1.00      0.98      0.99        60\n",
            "        pool       1.00      1.00      1.00        56\n",
            "       potty       1.00      1.00      1.00        53\n",
            "     pretend       1.00      1.00      1.00        61\n",
            "      pretty       1.00      1.00      1.00        58\n",
            "       puppy       1.00      1.00      1.00        62\n",
            "      puzzle       0.98      1.00      0.99        50\n",
            "       quiet       1.00      0.98      0.99        61\n",
            "       radio       1.00      1.00      1.00        60\n",
            "        rain       1.00      0.98      0.99        60\n",
            "        read       1.00      1.00      1.00        53\n",
            "         red       1.00      1.00      1.00        58\n",
            "refrigerator       1.00      1.00      1.00        55\n",
            "        ride       1.00      0.98      0.99        53\n",
            "        room       1.00      0.98      0.99        60\n",
            "         sad       0.98      1.00      0.99        60\n",
            "        same       1.00      1.00      1.00        59\n",
            "         say       0.98      1.00      0.99        55\n",
            "    scissors       1.00      1.00      1.00        60\n",
            "         see       1.00      1.00      1.00        60\n",
            "        shhh       1.00      1.00      1.00        60\n",
            "       shirt       1.00      1.00      1.00        54\n",
            "        shoe       0.98      1.00      0.99        60\n",
            "      shower       1.00      0.98      0.99        55\n",
            "        sick       1.00      1.00      1.00        56\n",
            "       sleep       1.00      1.00      1.00        57\n",
            "      sleepy       1.00      1.00      1.00        63\n",
            "       smile       1.00      1.00      1.00        56\n",
            "       snack       1.00      0.97      0.98        58\n",
            "        snow       0.98      1.00      0.99        58\n",
            "      stairs       1.00      1.00      1.00        60\n",
            "        stay       1.00      0.98      0.99        56\n",
            "      sticky       1.00      0.96      0.98        53\n",
            "       store       1.00      1.00      1.00        55\n",
            "       story       1.00      1.00      1.00        59\n",
            "       stuck       1.00      1.00      1.00        56\n",
            "         sun       0.98      1.00      0.99        58\n",
            "       table       1.00      1.00      1.00        51\n",
            "        talk       1.00      1.00      1.00        58\n",
            "       taste       1.00      1.00      1.00        57\n",
            "    thankyou       1.00      1.00      1.00        52\n",
            "        that       0.98      1.00      0.99        55\n",
            "       there       0.98      1.00      0.99        50\n",
            "       think       1.00      1.00      1.00        55\n",
            "     thirsty       1.00      1.00      1.00        49\n",
            "       tiger       1.00      1.00      1.00        56\n",
            "        time       1.00      0.98      0.99        50\n",
            "    tomorrow       1.00      1.00      1.00        55\n",
            "      tongue       1.00      0.98      0.99        58\n",
            "       tooth       1.00      1.00      1.00        53\n",
            "  toothbrush       1.00      1.00      1.00        57\n",
            "       touch       1.00      1.00      1.00        57\n",
            "         toy       1.00      1.00      1.00        55\n",
            "        tree       1.00      1.00      1.00        56\n",
            "       uncle       1.00      1.00      1.00        60\n",
            "   underwear       1.00      1.00      1.00        61\n",
            "          up       1.00      1.00      1.00        60\n",
            "      vacuum       1.00      0.96      0.98        52\n",
            "        wait       1.00      0.98      0.99        51\n",
            "        wake       1.00      0.88      0.94        58\n",
            "       water       1.00      1.00      1.00        62\n",
            "         wet       1.00      1.00      1.00        66\n",
            "        weus       1.00      1.00      1.00        57\n",
            "       where       1.00      1.00      1.00        56\n",
            "       white       1.00      1.00      1.00        60\n",
            "         who       1.00      1.00      1.00        60\n",
            "         why       1.00      1.00      1.00        59\n",
            "        will       0.98      1.00      0.99        56\n",
            "        wolf       0.98      1.00      0.99        57\n",
            "      yellow       1.00      1.00      1.00        58\n",
            "         yes       1.00      1.00      1.00        62\n",
            "   yesterday       1.00      1.00      1.00        60\n",
            "    yourself       1.00      1.00      1.00        57\n",
            "       yucky       1.00      0.95      0.97        56\n",
            "       zebra       0.98      1.00      0.99        61\n",
            "      zipper       1.00      1.00      1.00        32\n",
            "\n",
            "    accuracy                           1.00     14248\n",
            "   macro avg       1.00      1.00      1.00     14248\n",
            "weighted avg       1.00      1.00      1.00     14248\n",
            "\n"
          ]
        }
      ]
    },
    {
      "cell_type": "markdown",
      "source": [
        "# Inference"
      ],
      "metadata": {
        "id": "TqtZqk71baIP"
      }
    },
    {
      "cell_type": "code",
      "source": [
        "mp_holistic = mp.solutions.holistic # Holistic model\n",
        "mp_drawing = mp.solutions.drawing_utils # Drawing utilities"
      ],
      "metadata": {
        "id": "cATSrOMXYMUw"
      },
      "execution_count": 27,
      "outputs": []
    },
    {
      "cell_type": "code",
      "source": [
        "def mediapipe_detection(image, model):\n",
        "    image = cv2.cvtColor(image, cv2.COLOR_BGR2RGB) # COLOR CONVERSION BGR 2 RGB\n",
        "    image.flags.writeable = False                  # Image is no longer writeable\n",
        "    results = model.process(image)                 # Make prediction\n",
        "    image.flags.writeable = True                   # Image is now writeable\n",
        "    image = cv2.cvtColor(image, cv2.COLOR_RGB2BGR) # COLOR COVERSION RGB 2 BGR\n",
        "    return image, results"
      ],
      "metadata": {
        "id": "ClDJvIt7ZKlo"
      },
      "execution_count": 28,
      "outputs": []
    },
    {
      "cell_type": "code",
      "source": [
        "def draw_landmarks(image, results):\n",
        "    mp_drawing.draw_landmarks(image, results.face_landmarks, mp_holistic.FACE_CONTOURS) # Draw face connections\n",
        "    mp_drawing.draw_landmarks(image, results.pose_landmarks, mp_holistic.POSE_CONNECTIONS) # Draw pose connections\n",
        "    mp_drawing.draw_landmarks(image, results.left_hand_landmarks, mp_holistic.HAND_CONNECTIONS) # Draw left hand connections\n",
        "    mp_drawing.draw_landmarks(image, results.right_hand_landmarks, mp_holistic.HAND_CONNECTIONS) # Draw right hand connections"
      ],
      "metadata": {
        "id": "hDbICBxOZMjk"
      },
      "execution_count": 29,
      "outputs": []
    },
    {
      "cell_type": "code",
      "source": [
        "def draw_styled_landmarks(image, results):\n",
        "    # Draw face connections\n",
        "    mp_drawing.draw_landmarks(image, results.face_landmarks, mp_holistic.FACEMESH_CONTOURS,\n",
        "                             mp_drawing.DrawingSpec(color=(80,110,10), thickness=1, circle_radius=1),\n",
        "                             mp_drawing.DrawingSpec(color=(80,256,121), thickness=1, circle_radius=1)\n",
        "                             )\n",
        "    # Draw pose connections\n",
        "    mp_drawing.draw_landmarks(image, results.pose_landmarks, mp_holistic.POSE_CONNECTIONS,\n",
        "                             mp_drawing.DrawingSpec(color=(80,22,10), thickness=2, circle_radius=4),\n",
        "                             mp_drawing.DrawingSpec(color=(80,44,121), thickness=2, circle_radius=2)\n",
        "                             )\n",
        "    # Draw left hand connections\n",
        "    mp_drawing.draw_landmarks(image, results.left_hand_landmarks, mp_holistic.HAND_CONNECTIONS,\n",
        "                             mp_drawing.DrawingSpec(color=(121,22,76), thickness=2, circle_radius=4),\n",
        "                             mp_drawing.DrawingSpec(color=(121,44,250), thickness=2, circle_radius=2)\n",
        "                             )\n",
        "    # Draw right hand connections\n",
        "    mp_drawing.draw_landmarks(image, results.right_hand_landmarks, mp_holistic.HAND_CONNECTIONS,\n",
        "                             mp_drawing.DrawingSpec(color=(245,117,66), thickness=2, circle_radius=4),\n",
        "                             mp_drawing.DrawingSpec(color=(245,66,230), thickness=2, circle_radius=2)\n",
        "                             )"
      ],
      "metadata": {
        "id": "gySihAbKZQu8"
      },
      "execution_count": 30,
      "outputs": []
    },
    {
      "cell_type": "code",
      "source": [
        "# JavaScript to properly create our live video stream using our webcam as input\n",
        "def video_stream():\n",
        "  js = Javascript('''\n",
        "    var video;\n",
        "    var div = null;\n",
        "    var stream;\n",
        "    var captureCanvas;\n",
        "    var imgElement;\n",
        "    var labelElement;\n",
        "\n",
        "    var pendingResolve = null;\n",
        "    var shutdown = false;\n",
        "\n",
        "    function removeDom() {\n",
        "       stream.getVideoTracks()[0].stop();\n",
        "       video.remove();\n",
        "       div.remove();\n",
        "       video = null;\n",
        "       div = null;\n",
        "       stream = null;\n",
        "       imgElement = null;\n",
        "       captureCanvas = null;\n",
        "       labelElement = null;\n",
        "    }\n",
        "\n",
        "    function onAnimationFrame() {\n",
        "      if (!shutdown) {\n",
        "        window.requestAnimationFrame(onAnimationFrame);\n",
        "      }\n",
        "      if (pendingResolve) {\n",
        "        var result = \"\";\n",
        "        if (!shutdown) {\n",
        "          captureCanvas.getContext('2d').drawImage(video, 0, 0, 640, 480);\n",
        "          result = captureCanvas.toDataURL('image/jpeg', 0.8)\n",
        "        }\n",
        "        var lp = pendingResolve;\n",
        "        pendingResolve = null;\n",
        "        lp(result);\n",
        "      }\n",
        "    }\n",
        "\n",
        "    async function createDom() {\n",
        "      if (div !== null) {\n",
        "        return stream;\n",
        "      }\n",
        "\n",
        "      div = document.createElement('div');\n",
        "      div.style.border = '2px solid black';\n",
        "      div.style.padding = '3px';\n",
        "      div.style.width = '100%';\n",
        "      div.style.maxWidth = '600px';\n",
        "      document.body.appendChild(div);\n",
        "\n",
        "      const modelOut = document.createElement('div');\n",
        "      modelOut.innerHTML = \"<span>Status:</span>\";\n",
        "      labelElement = document.createElement('span');\n",
        "      labelElement.innerText = 'No data';\n",
        "      labelElement.style.fontWeight = 'bold';\n",
        "      modelOut.appendChild(labelElement);\n",
        "      div.appendChild(modelOut);\n",
        "\n",
        "      video = document.createElement('video');\n",
        "      video.style.display = 'block';\n",
        "      video.width = div.clientWidth - 6;\n",
        "      video.setAttribute('playsinline', '');\n",
        "      video.onclick = () => { shutdown = true; };\n",
        "      stream = await navigator.mediaDevices.getUserMedia(\n",
        "          {video: { facingMode: \"environment\"}});\n",
        "      div.appendChild(video);\n",
        "\n",
        "      imgElement = document.createElement('img');\n",
        "      imgElement.style.position = 'absolute';\n",
        "      imgElement.style.zIndex = 1;\n",
        "      imgElement.onclick = () => { shutdown = true; };\n",
        "      div.appendChild(imgElement);\n",
        "\n",
        "      const instruction = document.createElement('div');\n",
        "      instruction.innerHTML =\n",
        "          '<span style=\"color: red; font-weight: bold;\">' +\n",
        "          'When finished, click here or on the video to stop this demo</span>';\n",
        "      div.appendChild(instruction);\n",
        "      instruction.onclick = () => { shutdown = true; };\n",
        "\n",
        "      video.srcObject = stream;\n",
        "      await video.play();\n",
        "\n",
        "      captureCanvas = document.createElement('canvas');\n",
        "      captureCanvas.width = 640; //video.videoWidth;\n",
        "      captureCanvas.height = 480; //video.videoHeight;\n",
        "      window.requestAnimationFrame(onAnimationFrame);\n",
        "\n",
        "      return stream;\n",
        "    }\n",
        "    async function stream_frame(label, imgData) {\n",
        "      if (shutdown) {\n",
        "        removeDom();\n",
        "        shutdown = false;\n",
        "        return '';\n",
        "      }\n",
        "\n",
        "      var preCreate = Date.now();\n",
        "      stream = await createDom();\n",
        "\n",
        "      var preShow = Date.now();\n",
        "      if (label != \"\") {\n",
        "        labelElement.innerHTML = label;\n",
        "      }\n",
        "\n",
        "      if (imgData != \"\") {\n",
        "        var videoRect = video.getClientRects()[0];\n",
        "        imgElement.style.top = videoRect.top + \"px\";\n",
        "        imgElement.style.left = videoRect.left + \"px\";\n",
        "        imgElement.style.width = videoRect.width + \"px\";\n",
        "        imgElement.style.height = videoRect.height + \"px\";\n",
        "        imgElement.src = imgData;\n",
        "      }\n",
        "\n",
        "      var preCapture = Date.now();\n",
        "      var result = await new Promise(function(resolve, reject) {\n",
        "        pendingResolve = resolve;\n",
        "      });\n",
        "      shutdown = false;\n",
        "\n",
        "      return {'create': preShow - preCreate,\n",
        "              'show': preCapture - preShow,\n",
        "              'capture': Date.now() - preCapture,\n",
        "              'img': result};\n",
        "    }\n",
        "    ''')\n",
        "\n",
        "  display(js)\n",
        "\n",
        "def video_frame(label, bbox):\n",
        "  data = eval_js('stream_frame(\"{}\", \"{}\")'.format(label, bbox))\n",
        "  return data\n",
        "\n",
        "def js_to_image(js_reply):\n",
        "  \"\"\"\n",
        "  Params:\n",
        "          js_reply: JavaScript object containing image from webcam\n",
        "  Returns:\n",
        "          img: OpenCV BGR image\n",
        "  \"\"\"\n",
        "  # decode base64 image\n",
        "  image_bytes = b64decode(js_reply.split(',')[1])\n",
        "  # convert bytes to numpy array\n",
        "  jpg_as_np = np.frombuffer(image_bytes, dtype=np.uint8)\n",
        "  # decode numpy array into OpenCV BGR image\n",
        "  img = cv2.imdecode(jpg_as_np, flags=1)\n",
        "\n",
        "  return img"
      ],
      "metadata": {
        "id": "NaJd_KkxZXr1"
      },
      "execution_count": 31,
      "outputs": []
    },
    {
      "cell_type": "code",
      "source": [
        "def bbox_to_bytes(bbox_array):\n",
        "  rgb_image = cv2.cvtColor(bbox_array, cv2.COLOR_BGR2RGB)\n",
        "\n",
        "  # Convert an RGB array to a PNG byte stream with PIL\n",
        "  bbox_pil = PIL.Image.fromarray(rgb_image, 'RGB')\n",
        "  iobuf = io.BytesIO()\n",
        "  bbox_pil.save(iobuf, format='png')\n",
        "  # format return string\n",
        "  bbox_bytes = 'data:image/png;base64,{}'.format((str(b64encode(iobuf.getvalue()), 'utf-8')))\n",
        "\n",
        "  return bbox_bytes"
      ],
      "metadata": {
        "id": "lBUeYJUsZan4"
      },
      "execution_count": 32,
      "outputs": []
    },
    {
      "cell_type": "code",
      "source": [
        "def extract_keypoints(results):\n",
        "    pose = np.array([[res.x, res.y, res.z, res.visibility] for res in results.pose_landmarks.landmark]).flatten() if results.pose_landmarks else np.zeros(33*4)\n",
        "    face = np.array([[res.x, res.y, res.z] for res in results.face_landmarks.landmark]).flatten() if results.face_landmarks else np.zeros(468*3)\n",
        "    lh = np.array([[res.x, res.y, res.z] for res in results.left_hand_landmarks.landmark]).flatten() if results.left_hand_landmarks else np.zeros(21*3)\n",
        "    rh = np.array([[res.x, res.y, res.z] for res in results.right_hand_landmarks.landmark]).flatten() if results.right_hand_landmarks else np.zeros(21*3)\n",
        "    return np.concatenate([pose, face, lh, rh])"
      ],
      "metadata": {
        "id": "SClK2IhRZd9A"
      },
      "execution_count": 33,
      "outputs": []
    },
    {
      "cell_type": "code",
      "source": [
        "folder_path = './'\n",
        "\n",
        "h5_file = None\n",
        "npy_file = None\n",
        "\n",
        "for file in os.listdir(folder_path):\n",
        "    if file.endswith('.h5') and not h5_file:\n",
        "        h5_file = file\n",
        "    elif file.endswith('.npy') and not npy_file:\n",
        "        npy_file = file\n",
        "    if h5_file and npy_file:\n",
        "        break\n",
        "\n",
        "if h5_file and npy_file:\n",
        "    model = load_model(os.path.join(folder_path, h5_file))\n",
        "    actions = np.load(os.path.join(folder_path, npy_file), allow_pickle=True)\n",
        "    print(\"Model and actions loaded successfully.\")\n",
        "else:\n",
        "    print(\"Required files not found in the folder.\")"
      ],
      "metadata": {
        "colab": {
          "base_uri": "https://localhost:8080/"
        },
        "id": "_x2nPlTJZnz3",
        "outputId": "f0fa4dae-6564-4816-fb95-921781daecd6"
      },
      "execution_count": 34,
      "outputs": [
        {
          "output_type": "stream",
          "name": "stdout",
          "text": [
            "Required files not found in the folder.\n"
          ]
        }
      ]
    },
    {
      "cell_type": "code",
      "source": [
        "def draw_landmarks(landmarks,image,show_pose=True,show_face_contour=True,show_face_tesselation=True,show_left_hand=True,show_right_hand=True):\n",
        "    annotated_image = image.copy()\n",
        "    results = landmarks\n",
        "    if show_face_tesselation:\n",
        "        mp_drawing.draw_landmarks(\n",
        "            annotated_image,\n",
        "            results.face_landmarks,\n",
        "            mp_holistic.FACEMESH_TESSELATION,\n",
        "            landmark_drawing_spec=None,\n",
        "            connection_drawing_spec=mp_drawing_styles\n",
        "            .get_default_face_mesh_tesselation_style())\n",
        "    if show_face_contour:\n",
        "        mp_drawing.draw_landmarks(\n",
        "            annotated_image,\n",
        "            results.face_landmarks,\n",
        "            mp_holistic.FACEMESH_CONTOURS,\n",
        "            landmark_drawing_spec=None,\n",
        "            connection_drawing_spec=mp_drawing_styles\n",
        "            .get_default_face_mesh_contours_style())\n",
        "    if show_pose:\n",
        "        mp_drawing.draw_landmarks(\n",
        "            annotated_image,\n",
        "            results.pose_landmarks,\n",
        "            mp_holistic.POSE_CONNECTIONS,\n",
        "            landmark_drawing_spec=mp_drawing_styles.\n",
        "            get_default_pose_landmarks_style())\n",
        "    if show_left_hand:\n",
        "        mp_drawing.draw_landmarks(\n",
        "            annotated_image,\n",
        "            results.left_hand_landmarks,\n",
        "            mp_holistic.HAND_CONNECTIONS,\n",
        "            landmark_drawing_spec=mp_drawing_styles\n",
        "            .get_default_hand_landmarks_style())\n",
        "    if show_right_hand:\n",
        "        mp_drawing.draw_landmarks(\n",
        "            annotated_image,\n",
        "            results.right_hand_landmarks,\n",
        "            mp_holistic.HAND_CONNECTIONS,\n",
        "            landmark_drawing_spec=mp_drawing_styles\n",
        "            .get_default_hand_landmarks_style())\n",
        "    return annotated_image\n",
        "\n",
        "def display_image(img):\n",
        "    plt.imshow(img)\n",
        "    plt.axis('off')  # Turn off the axis\n",
        "    plt.show()"
      ],
      "metadata": {
        "id": "cohqkZiKZoZC"
      },
      "execution_count": 35,
      "outputs": []
    },
    {
      "cell_type": "code",
      "source": [
        "def transform(results, frame_number):\n",
        "  frame = []\n",
        "  type_ = []\n",
        "  index = []\n",
        "  x = []\n",
        "  y = []\n",
        "  z = []\n",
        "  #image.flags.writeable = False\n",
        "  #image = cv2.cvtColor(image, cv2.COLOR_BGR2RGB)\n",
        "  #results = holistic.process(image)\n",
        "  #face\n",
        "  if(results.face_landmarks is None):\n",
        "    for ind in range(468):\n",
        "      frame.append(frame_number)\n",
        "      type_.append(\"face\")\n",
        "      index.append(ind)\n",
        "      x.append(np.nan)\n",
        "      y.append(np.nan)\n",
        "      z.append(np.nan)\n",
        "  else:\n",
        "    for ind,val in enumerate(results.face_landmarks.landmark):\n",
        "      frame.append(frame_number)\n",
        "      type_.append(\"face\")\n",
        "      index.append(ind)\n",
        "      x.append(val.x)\n",
        "      y.append(val.y)\n",
        "      z.append(val.z)\n",
        "\n",
        "  #left hand\n",
        "  if(results.left_hand_landmarks is None):\n",
        "    for ind in range(21):\n",
        "      frame.append(frame_number)\n",
        "      type_.append(\"left_hand\")\n",
        "      index.append(ind)\n",
        "      x.append(np.nan)\n",
        "      y.append(np.nan)\n",
        "      z.append(np.nan)\n",
        "  else:\n",
        "    for ind,val in enumerate(results.left_hand_landmarks.landmark):\n",
        "      frame.append(frame_number)\n",
        "      type_.append(\"left_hand\")\n",
        "      index.append(ind)\n",
        "      x.append(val.x)\n",
        "      y.append(val.y)\n",
        "      z.append(val.z)\n",
        "\n",
        "  #pose\n",
        "  if(results.pose_landmarks is None):\n",
        "    for ind in range(33):\n",
        "      frame.append(frame_number)\n",
        "      type_.append(\"pose\")\n",
        "      index.append(ind)\n",
        "      x.append(np.nan)\n",
        "      y.append(np.nan)\n",
        "      z.append(np.nan)\n",
        "  else:\n",
        "    for ind,val in enumerate(results.pose_landmarks.landmark):\n",
        "      frame.append(frame_number)\n",
        "      type_.append(\"pose\")\n",
        "      index.append(ind)\n",
        "      x.append(val.x)\n",
        "      y.append(val.y)\n",
        "      z.append(val.z)\n",
        "\n",
        "  #right hand\n",
        "  if(results.right_hand_landmarks is None):\n",
        "    for ind in range(21):\n",
        "      frame.append(frame_number)\n",
        "      type_.append(\"right_hand\")\n",
        "      index.append(ind)\n",
        "      x.append(np.nan)\n",
        "      y.append(np.nan)\n",
        "      z.append(np.nan)\n",
        "  else:\n",
        "    for ind,val in enumerate(results.right_hand_landmarks.landmark):\n",
        "      frame.append(frame_number)\n",
        "      type_.append(\"right_hand\")\n",
        "      index.append(ind)\n",
        "      x.append(val.x)\n",
        "      y.append(val.y)\n",
        "      z.append(val.z)\n",
        "  #data = np.array([frame, type_, index, x, y, z])\n",
        "  return pd.DataFrame({\"frame\" : frame,\"type\"  : type_,\"landmark_index\" : index,\"x\" : x,\"y\" : y,\"z\" : z})\n"
      ],
      "metadata": {
        "id": "sSsNpyZFiFFZ"
      },
      "execution_count": 36,
      "outputs": []
    },
    {
      "cell_type": "code",
      "source": [
        "SEQUENCE = []\n",
        "TenDataFrame = []"
      ],
      "metadata": {
        "id": "P5_s0VYvcYuU"
      },
      "execution_count": 37,
      "outputs": []
    },
    {
      "cell_type": "code",
      "source": [
        "\"\"\"\n",
        "    Tensorflow layer to process data in TFLite\n",
        "    Data needs to be processed in the model itself, so we can not use Python\n",
        "\"\"\"\n",
        "class PreprocessLayer(tf.keras.layers.Layer):\n",
        "    def __init__(self):\n",
        "        super(PreprocessLayer, self).__init__()\n",
        "        normalisation_correction = tf.constant([\n",
        "                    # Add 0.50 to left hand (original right hand) and substract 0.50 of right hand (original left hand)\n",
        "                    [0] * len(LIPS_IDXS) + [0.50] * len(LEFT_HAND_IDXS) + [0.50] * len(POSE_IDXS),\n",
        "                    # Y coordinates stay intact\n",
        "                    [0] * len(LANDMARK_IDXS_LEFT_DOMINANT0),\n",
        "                    # Z coordinates stay intact\n",
        "                    [0] * len(LANDMARK_IDXS_LEFT_DOMINANT0),\n",
        "                ],\n",
        "                dtype=tf.float32,\n",
        "            )\n",
        "        self.normalisation_correction = tf.transpose(normalisation_correction, [1,0])\n",
        "\n",
        "    def pad_edge(self, t, repeats, side):\n",
        "        if side == 'LEFT':\n",
        "            return tf.concat((tf.repeat(t[:1], repeats=repeats, axis=0), t), axis=0)\n",
        "        elif side == 'RIGHT':\n",
        "            return tf.concat((t, tf.repeat(t[-1:], repeats=repeats, axis=0)), axis=0)\n",
        "\n",
        "    @tf.function(\n",
        "        input_signature=(tf.TensorSpec(shape=[None,N_ROWS,N_DIMS], dtype=tf.float32),),\n",
        "    )\n",
        "    def call(self, data0):\n",
        "        # Number of Frames in Video\n",
        "        N_FRAMES0 = tf.shape(data0)[0]\n",
        "\n",
        "        # Find dominant hand by comparing summed absolute coordinates\n",
        "        left_hand_sum = tf.math.reduce_sum(tf.where(tf.math.is_nan(tf.gather(data0, LEFT_HAND_IDXS0, axis=1)), 0, 1))\n",
        "        right_hand_sum = tf.math.reduce_sum(tf.where(tf.math.is_nan(tf.gather(data0, RIGHT_HAND_IDXS0, axis=1)), 0, 1))\n",
        "        left_dominant = left_hand_sum >= right_hand_sum\n",
        "\n",
        "        # Count non NaN Hand values in each frame for the dominant hand\n",
        "        if left_dominant:\n",
        "            frames_hands_non_nan_sum = tf.math.reduce_sum(\n",
        "                    tf.where(tf.math.is_nan(tf.gather(data0, LEFT_HAND_IDXS0, axis=1)), 0, 1),\n",
        "                    axis=[1, 2],\n",
        "                )\n",
        "        else:\n",
        "            frames_hands_non_nan_sum = tf.math.reduce_sum(\n",
        "                    tf.where(tf.math.is_nan(tf.gather(data0, RIGHT_HAND_IDXS0, axis=1)), 0, 1),\n",
        "                    axis=[1, 2],\n",
        "                )\n",
        "\n",
        "        # Find frames indices with coordinates of dominant hand\n",
        "        non_empty_frames_idxs = tf.where(frames_hands_non_nan_sum > 0)\n",
        "        non_empty_frames_idxs = tf.squeeze(non_empty_frames_idxs, axis=1)\n",
        "        # Filter frames\n",
        "        data = tf.gather(data0, non_empty_frames_idxs, axis=0)\n",
        "\n",
        "        # Cast Indices in float32 to be compatible with Tensorflow Lite\n",
        "        non_empty_frames_idxs = tf.cast(non_empty_frames_idxs, tf.float32)\n",
        "        # Normalize to start with 0\n",
        "        non_empty_frames_idxs -= tf.reduce_min(non_empty_frames_idxs)\n",
        "\n",
        "        # Number of Frames in Filtered Video\n",
        "        N_FRAMES = tf.shape(data)[0]\n",
        "\n",
        "        # Gather Relevant Landmark Columns\n",
        "        if left_dominant:\n",
        "            data = tf.gather(data, LANDMARK_IDXS_LEFT_DOMINANT0, axis=1)\n",
        "        else:\n",
        "            data = tf.gather(data, LANDMARK_IDXS_RIGHT_DOMINANT0, axis=1)\n",
        "            data = (\n",
        "                    self.normalisation_correction + (\n",
        "                        (data - self.normalisation_correction) * tf.where(self.normalisation_correction != 0, -1.0, 1.0))\n",
        "                )\n",
        "\n",
        "        # Video fits in INPUT_SIZE\n",
        "        if N_FRAMES < INPUT_SIZE:\n",
        "            # Pad With -1 to indicate padding\n",
        "            non_empty_frames_idxs = tf.pad(non_empty_frames_idxs, [[0, INPUT_SIZE-N_FRAMES]], constant_values=-1)\n",
        "            # Pad Data With Zeros\n",
        "            data = tf.pad(data, [[0, INPUT_SIZE-N_FRAMES], [0,0], [0,0]], constant_values=0)\n",
        "            # Fill NaN Values With 0\n",
        "            data = tf.where(tf.math.is_nan(data), 0.0, data)\n",
        "            return data, non_empty_frames_idxs\n",
        "        # Video needs to be downsampled to INPUT_SIZE\n",
        "        else:\n",
        "            # Repeat\n",
        "            if N_FRAMES < INPUT_SIZE**2:\n",
        "                repeats = tf.math.floordiv(INPUT_SIZE * INPUT_SIZE, N_FRAMES0)\n",
        "                data = tf.repeat(data, repeats=repeats, axis=0)\n",
        "                non_empty_frames_idxs = tf.repeat(non_empty_frames_idxs, repeats=repeats, axis=0)\n",
        "\n",
        "            # Pad To Multiple Of Input Size\n",
        "            pool_size = tf.math.floordiv(len(data), INPUT_SIZE)\n",
        "            if tf.math.mod(len(data), INPUT_SIZE) > 0:\n",
        "                pool_size += 1\n",
        "\n",
        "            if pool_size == 1:\n",
        "                pad_size = (pool_size * INPUT_SIZE) - len(data)\n",
        "            else:\n",
        "                pad_size = (pool_size * INPUT_SIZE) % len(data)\n",
        "\n",
        "            # Pad Start/End with Start/End value\n",
        "            pad_left = tf.math.floordiv(pad_size, 2) + tf.math.floordiv(INPUT_SIZE, 2)\n",
        "            pad_right = tf.math.floordiv(pad_size, 2) + tf.math.floordiv(INPUT_SIZE, 2)\n",
        "            if tf.math.mod(pad_size, 2) > 0:\n",
        "                pad_right += 1\n",
        "\n",
        "            # Pad By Concatenating Left/Right Edge Values\n",
        "            data = self.pad_edge(data, pad_left, 'LEFT')\n",
        "            data = self.pad_edge(data, pad_right, 'RIGHT')\n",
        "\n",
        "            # Pad Non Empty Frame Indices\n",
        "            non_empty_frames_idxs = self.pad_edge(non_empty_frames_idxs, pad_left, 'LEFT')\n",
        "            non_empty_frames_idxs = self.pad_edge(non_empty_frames_idxs, pad_right, 'RIGHT')\n",
        "\n",
        "            # Reshape to Mean Pool\n",
        "            data = tf.reshape(data, [INPUT_SIZE, -1, N_COLS, N_DIMS])\n",
        "            non_empty_frames_idxs = tf.reshape(non_empty_frames_idxs, [INPUT_SIZE, -1])\n",
        "\n",
        "            # Mean Pool\n",
        "            data = tf.experimental.numpy.nanmean(data, axis=1)\n",
        "            non_empty_frames_idxs = tf.experimental.numpy.nanmean(non_empty_frames_idxs, axis=1)\n",
        "\n",
        "            # Fill NaN Values With 0\n",
        "            data = tf.where(tf.math.is_nan(data), 0.0, data)\n",
        "\n",
        "            return data, non_empty_frames_idxs\n",
        "\n",
        "preprocess_layer = PreprocessLayer()"
      ],
      "metadata": {
        "id": "0DYEgmslE9rr"
      },
      "execution_count": 38,
      "outputs": []
    },
    {
      "cell_type": "code",
      "source": [
        "ROWS_PER_FRAME = 543  # number of landmarks per frame\n",
        "def load_and_preprocess_data(data, preprocess_layer):\n",
        "    # Load data\n",
        "    data_columns = ['x', 'y', 'z']\n",
        "    data = data[data_columns]\n",
        "    n_frames = int(len(data) / ROWS_PER_FRAME)\n",
        "    data = data.values.reshape(n_frames, ROWS_PER_FRAME, len(data_columns))\n",
        "    # Apply preprocessing using the PreprocessLayer\n",
        "    processed_data = preprocess_layer(data.astype(np.float32))\n",
        "\n",
        "    return processed_data"
      ],
      "metadata": {
        "id": "3yuko7OOFLNz"
      },
      "execution_count": 39,
      "outputs": []
    },
    {
      "cell_type": "code",
      "source": [
        "import time\n",
        "video_stream()\n",
        "# label for video\n",
        "label_html = 'Image Capture'\n",
        "\n",
        "holistic = mp_holistic.Holistic(min_detection_confidence=0.5, min_tracking_confidence=0.5, model_complexity=0)\n",
        "\n",
        "bbox = ''\n",
        "count = 0\n",
        "frame_time = 0\n",
        "frame_count = 0\n",
        "sequence = []\n",
        "left_hand_located = []\n",
        "right_hand_located = []\n",
        "printed = False\n",
        "vframe_number = 0\n",
        "combine_df = pd.DataFrame()\n",
        "fps = 0\n",
        "while True:\n",
        "    start_time = time.time()\n",
        "    js_reply = video_frame(label_html, bbox)\n",
        "    # print(f\"The operation took {duration} seconds to complete.\")\n",
        "\n",
        "    if not js_reply:\n",
        "        break\n",
        "    vframe_number += 1\n",
        "    frame = js_to_image(js_reply[\"img\"])\n",
        "\n",
        "    image, results = mediapipe_detection(frame, holistic)\n",
        "    testdf =  transform(results, vframe_number)\n",
        "    combine_df = pd.concat([combine_df, testdf])\n",
        "\n",
        "    if vframe_number == 24:\n",
        "\n",
        "        if not printed:\n",
        "          print('predicting...')\n",
        "          printed = True\n",
        "\n",
        "        #if (not (all_left_hands_detected or all_right_hands_detected)):\n",
        "        label_html = \"Not enough hand data\"\n",
        "        #else:\n",
        "        processed_data, non_empty_frame_idxs = load_and_preprocess_data(combine_df, preprocess_layer)\n",
        "          #confidence_threshold = 0.7\n",
        "          #predictions = model.predict(np.expand_dims(sequence, axis=0), verbose=0)[0]\n",
        "        X = np.zeros([1, INPUT_SIZE, N_COLS, N_DIMS], dtype=np.float32)\n",
        "        NON_EMPTY_FRAME_IDXS = np.full([1, INPUT_SIZE], -1, dtype=np.float32)\n",
        "        X[0] = processed_data\n",
        "        NON_EMPTY_FRAME_IDXS[0] = non_empty_frame_idxs\n",
        "        predicted = model.predict({ 'frames': X, 'non_empty_frame_idxs': NON_EMPTY_FRAME_IDXS }, verbose=0).argmax(axis=1)\n",
        "          # Find the maximum confidence and its corresponding action\n",
        "          #max_confidence = np.max(predictions)\n",
        "          #predicted_action = actions[np.argmax(predictions)]\n",
        "        predicted_action = class_names[predicted[0]]\n",
        "        combine_df = pd.DataFrame()\n",
        "        label_html = f\"Predicted Action: {predicted_action}\"#, FPS: {fps}\"\n",
        "        vframe_number = 0\n",
        "          # Check if the maximum confidence exceeds the threshold\n",
        "          #if max_confidence > confidence_threshold and max_confidence != 1:\n",
        "              #label_html = f\"Predicted Action: {y_val_pred}, Confidence: {max_confidence:.2f}\"\n",
        "          #else:\n",
        "              #label_html = \"Prediction not confident enough\"\n",
        "\n",
        "    draw_styled_landmarks(image, results)\n",
        "    bbox_bytes = bbox_to_bytes(image)\n",
        "    bbox = bbox_bytes\n",
        "    #end_time = time.time()  # End time of the loop\n",
        "    #frame_time += (end_time - start_time)\n",
        "    #frame_count += 1\n",
        "    #if frame_count % 24 == 0:\n",
        "      #fps = frame_count / frame_time\n",
        "      #label_html = f\"FPS: {fps:.2f}\"\n",
        "      #frame_time = 0\n",
        "      #frame_count = 0"
      ],
      "metadata": {
        "colab": {
          "base_uri": "https://localhost:8080/",
          "height": 34
        },
        "id": "--zBO-W8Z5m7",
        "outputId": "875677ad-149c-449f-b790-c3c396ba6ef3"
      },
      "execution_count": 43,
      "outputs": [
        {
          "output_type": "display_data",
          "data": {
            "text/plain": [
              "<IPython.core.display.Javascript object>"
            ],
            "application/javascript": [
              "\n",
              "    var video;\n",
              "    var div = null;\n",
              "    var stream;\n",
              "    var captureCanvas;\n",
              "    var imgElement;\n",
              "    var labelElement;\n",
              "\n",
              "    var pendingResolve = null;\n",
              "    var shutdown = false;\n",
              "\n",
              "    function removeDom() {\n",
              "       stream.getVideoTracks()[0].stop();\n",
              "       video.remove();\n",
              "       div.remove();\n",
              "       video = null;\n",
              "       div = null;\n",
              "       stream = null;\n",
              "       imgElement = null;\n",
              "       captureCanvas = null;\n",
              "       labelElement = null;\n",
              "    }\n",
              "\n",
              "    function onAnimationFrame() {\n",
              "      if (!shutdown) {\n",
              "        window.requestAnimationFrame(onAnimationFrame);\n",
              "      }\n",
              "      if (pendingResolve) {\n",
              "        var result = \"\";\n",
              "        if (!shutdown) {\n",
              "          captureCanvas.getContext('2d').drawImage(video, 0, 0, 640, 480);\n",
              "          result = captureCanvas.toDataURL('image/jpeg', 0.8)\n",
              "        }\n",
              "        var lp = pendingResolve;\n",
              "        pendingResolve = null;\n",
              "        lp(result);\n",
              "      }\n",
              "    }\n",
              "\n",
              "    async function createDom() {\n",
              "      if (div !== null) {\n",
              "        return stream;\n",
              "      }\n",
              "\n",
              "      div = document.createElement('div');\n",
              "      div.style.border = '2px solid black';\n",
              "      div.style.padding = '3px';\n",
              "      div.style.width = '100%';\n",
              "      div.style.maxWidth = '600px';\n",
              "      document.body.appendChild(div);\n",
              "\n",
              "      const modelOut = document.createElement('div');\n",
              "      modelOut.innerHTML = \"<span>Status:</span>\";\n",
              "      labelElement = document.createElement('span');\n",
              "      labelElement.innerText = 'No data';\n",
              "      labelElement.style.fontWeight = 'bold';\n",
              "      modelOut.appendChild(labelElement);\n",
              "      div.appendChild(modelOut);\n",
              "\n",
              "      video = document.createElement('video');\n",
              "      video.style.display = 'block';\n",
              "      video.width = div.clientWidth - 6;\n",
              "      video.setAttribute('playsinline', '');\n",
              "      video.onclick = () => { shutdown = true; };\n",
              "      stream = await navigator.mediaDevices.getUserMedia(\n",
              "          {video: { facingMode: \"environment\"}});\n",
              "      div.appendChild(video);\n",
              "\n",
              "      imgElement = document.createElement('img');\n",
              "      imgElement.style.position = 'absolute';\n",
              "      imgElement.style.zIndex = 1;\n",
              "      imgElement.onclick = () => { shutdown = true; };\n",
              "      div.appendChild(imgElement);\n",
              "\n",
              "      const instruction = document.createElement('div');\n",
              "      instruction.innerHTML =\n",
              "          '<span style=\"color: red; font-weight: bold;\">' +\n",
              "          'When finished, click here or on the video to stop this demo</span>';\n",
              "      div.appendChild(instruction);\n",
              "      instruction.onclick = () => { shutdown = true; };\n",
              "\n",
              "      video.srcObject = stream;\n",
              "      await video.play();\n",
              "\n",
              "      captureCanvas = document.createElement('canvas');\n",
              "      captureCanvas.width = 640; //video.videoWidth;\n",
              "      captureCanvas.height = 480; //video.videoHeight;\n",
              "      window.requestAnimationFrame(onAnimationFrame);\n",
              "\n",
              "      return stream;\n",
              "    }\n",
              "    async function stream_frame(label, imgData) {\n",
              "      if (shutdown) {\n",
              "        removeDom();\n",
              "        shutdown = false;\n",
              "        return '';\n",
              "      }\n",
              "\n",
              "      var preCreate = Date.now();\n",
              "      stream = await createDom();\n",
              "\n",
              "      var preShow = Date.now();\n",
              "      if (label != \"\") {\n",
              "        labelElement.innerHTML = label;\n",
              "      }\n",
              "\n",
              "      if (imgData != \"\") {\n",
              "        var videoRect = video.getClientRects()[0];\n",
              "        imgElement.style.top = videoRect.top + \"px\";\n",
              "        imgElement.style.left = videoRect.left + \"px\";\n",
              "        imgElement.style.width = videoRect.width + \"px\";\n",
              "        imgElement.style.height = videoRect.height + \"px\";\n",
              "        imgElement.src = imgData;\n",
              "      }\n",
              "\n",
              "      var preCapture = Date.now();\n",
              "      var result = await new Promise(function(resolve, reject) {\n",
              "        pendingResolve = resolve;\n",
              "      });\n",
              "      shutdown = false;\n",
              "\n",
              "      return {'create': preShow - preCreate,\n",
              "              'show': preCapture - preShow,\n",
              "              'capture': Date.now() - preCapture,\n",
              "              'img': result};\n",
              "    }\n",
              "    "
            ]
          },
          "metadata": {}
        },
        {
          "output_type": "stream",
          "name": "stdout",
          "text": [
            "predicting...\n"
          ]
        }
      ]
    },
    {
      "cell_type": "code",
      "source": [
        "class_names[0]"
      ],
      "metadata": {
        "colab": {
          "base_uri": "https://localhost:8080/",
          "height": 35
        },
        "id": "AMQ7wSpKcFZi",
        "outputId": "96d66750-26c2-4419-c3bd-e3631e733c5a"
      },
      "execution_count": 55,
      "outputs": [
        {
          "output_type": "execute_result",
          "data": {
            "text/plain": [
              "'TV'"
            ],
            "application/vnd.google.colaboratory.intrinsic+json": {
              "type": "string"
            }
          },
          "metadata": {},
          "execution_count": 55
        }
      ]
    },
    {
      "cell_type": "code",
      "source": [
        "predicted[0]"
      ],
      "metadata": {
        "colab": {
          "base_uri": "https://localhost:8080/"
        },
        "id": "tI_VBQ18dYLK",
        "outputId": "1d28cdd0-1776-45c1-e13f-1dcf358378b3"
      },
      "execution_count": 51,
      "outputs": [
        {
          "output_type": "execute_result",
          "data": {
            "text/plain": [
              "27"
            ]
          },
          "metadata": {},
          "execution_count": 51
        }
      ]
    },
    {
      "cell_type": "code",
      "source": [
        "non_empty_frame_idxs.shape"
      ],
      "metadata": {
        "colab": {
          "base_uri": "https://localhost:8080/"
        },
        "id": "NPrrFpBeaCEL",
        "outputId": "c896fdae-1413-4810-e4e4-e375f74fd300"
      },
      "execution_count": 52,
      "outputs": [
        {
          "output_type": "execute_result",
          "data": {
            "text/plain": [
              "TensorShape([64])"
            ]
          },
          "metadata": {},
          "execution_count": 52
        }
      ]
    },
    {
      "cell_type": "code",
      "source": [
        "predicted_action"
      ],
      "metadata": {
        "colab": {
          "base_uri": "https://localhost:8080/",
          "height": 176
        },
        "id": "jZV_JOvsc_ZP",
        "outputId": "734ec97d-38ff-42af-8fc3-00d119ef94ff"
      },
      "execution_count": 53,
      "outputs": [
        {
          "output_type": "error",
          "ename": "NameError",
          "evalue": "ignored",
          "traceback": [
            "\u001b[0;31m---------------------------------------------------------------------------\u001b[0m",
            "\u001b[0;31mNameError\u001b[0m                                 Traceback (most recent call last)",
            "\u001b[0;32m<ipython-input-53-56499f3957e2>\u001b[0m in \u001b[0;36m<cell line: 1>\u001b[0;34m()\u001b[0m\n\u001b[0;32m----> 1\u001b[0;31m \u001b[0mpredicted_action\u001b[0m\u001b[0;34m\u001b[0m\u001b[0;34m\u001b[0m\u001b[0m\n\u001b[0m",
            "\u001b[0;31mNameError\u001b[0m: name 'predicted_action' is not defined"
          ]
        }
      ]
    },
    {
      "cell_type": "code",
      "source": [
        "test_df= combine_df[combine_df['frame']==2]\n",
        "test_df= test_df[test_df['type']=='pose']\n",
        "test_df.shape"
      ],
      "metadata": {
        "colab": {
          "base_uri": "https://localhost:8080/"
        },
        "id": "ZC2ysFXbdFc2",
        "outputId": "7d667a2f-675c-47d4-b780-a659d3549102"
      },
      "execution_count": 40,
      "outputs": [
        {
          "output_type": "execute_result",
          "data": {
            "text/plain": [
              "(33, 6)"
            ]
          },
          "metadata": {},
          "execution_count": 40
        }
      ]
    }
  ]
}